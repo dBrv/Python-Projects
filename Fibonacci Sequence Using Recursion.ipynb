{
 "cells": [
  {
   "cell_type": "markdown",
   "id": "7fa57922-7be0-4b39-9327-b67cd5634d2e",
   "metadata": {},
   "source": [
    "# Fibonacci Sequence"
   ]
  },
  {
   "cell_type": "markdown",
   "id": "be953609-d28e-4ea2-8e96-2bdc821a1929",
   "metadata": {},
   "source": [
    "The Fibonacci sequence is a series of numbers in which each number is the sum of the two preceding ones, usually startng with 0 and 1. In mathematical terms, it is defined by the recurrence relation(F(n)= F(n-1)+ F(n-2)), with initial conditions (F(0) = 0) and (F(1) = 1). The sequence begins:0, 1, 1, 2, 3, 5, 8, 13, 21, and so on. The Fibonacci sequence has widespread applications in mathematics, computer science, nature, and art."
   ]
  },
  {
   "cell_type": "code",
   "execution_count": 3,
   "id": "d1b15a77-43cf-45cc-b405-c3ae355a8193",
   "metadata": {},
   "outputs": [
    {
     "name": "stdin",
     "output_type": "stream",
     "text": [
      "Enter the number of terms (greater than 0):  32\n"
     ]
    },
    {
     "name": "stdout",
     "output_type": "stream",
     "text": [
      "Fibonacci sequence:\n",
      "0\n",
      "1\n",
      "1\n",
      "2\n",
      "3\n",
      "5\n",
      "8\n",
      "13\n",
      "21\n",
      "34\n",
      "55\n",
      "89\n",
      "144\n",
      "233\n",
      "377\n",
      "610\n",
      "987\n",
      "1597\n",
      "2584\n",
      "4181\n",
      "6765\n",
      "10946\n",
      "17711\n",
      "28657\n",
      "46368\n",
      "75025\n",
      "121393\n",
      "196418\n",
      "317811\n",
      "514229\n",
      "832040\n",
      "1346269\n"
     ]
    }
   ],
   "source": [
    "# Python program to display the Fibonacci sequence\n",
    "\n",
    "def recur_fibo(n):\n",
    "    if n <= 1:\n",
    "        return n\n",
    "    else:\n",
    "        return(recur_fibo(n-1) + recur_fibo(n-2))\n",
    "\n",
    "nterms = int(input(\"Enter the number of terms (greater than 0): \"))\n",
    "\n",
    "# checks ifthe number of terms is valid\n",
    "if nterms <= 0:\n",
    "    print(\"Please enter a positive integer\")\n",
    "else:\n",
    "    print(\"Fibonacci sequence:\")\n",
    "    for i in range(nterms):\n",
    "        print(recur_fibo(i))"
   ]
  },
  {
   "cell_type": "code",
   "execution_count": null,
   "id": "53d7fde1-2fea-4012-9469-2274edb7c1f1",
   "metadata": {},
   "outputs": [],
   "source": []
  }
 ],
 "metadata": {
  "kernelspec": {
   "display_name": "Python [conda env:base] *",
   "language": "python",
   "name": "conda-base-py"
  },
  "language_info": {
   "codemirror_mode": {
    "name": "ipython",
    "version": 3
   },
   "file_extension": ".py",
   "mimetype": "text/x-python",
   "name": "python",
   "nbconvert_exporter": "python",
   "pygments_lexer": "ipython3",
   "version": "3.12.7"
  }
 },
 "nbformat": 4,
 "nbformat_minor": 5
}
