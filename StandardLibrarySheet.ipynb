{
 "cells": [
  {
   "cell_type": "code",
   "execution_count": 1,
   "id": "3bcaac3d-1d3f-4325-bc76-39fa630ac544",
   "metadata": {},
   "outputs": [],
   "source": [
    "x = 5 #This is my Python sheet where I am teaching myself and whoever wants to learn the basic commands for Python 3."
   ]
  },
  {
   "cell_type": "code",
   "execution_count": 2,
   "id": "94a6dd7e-46b0-4882-a08c-00e33bbb2274",
   "metadata": {},
   "outputs": [
    {
     "data": {
      "text/plain": [
       "5"
      ]
     },
     "execution_count": 2,
     "metadata": {},
     "output_type": "execute_result"
    }
   ],
   "source": [
    "x"
   ]
  },
  {
   "cell_type": "code",
   "execution_count": 3,
   "id": "ccccca45-f2fa-4e54-aa02-cbc13c326788",
   "metadata": {},
   "outputs": [],
   "source": [
    "x = 8 #Notice that we can change the variable value at any time by simply typing it again."
   ]
  },
  {
   "cell_type": "code",
   "execution_count": 4,
   "id": "f7996aaa-8de4-4073-bf4f-1ca8b580e460",
   "metadata": {},
   "outputs": [
    {
     "data": {
      "text/plain": [
       "16.444000000000003"
      ]
     },
     "execution_count": 4,
     "metadata": {},
     "output_type": "execute_result"
    }
   ],
   "source": [
    "x + 8.444  #And we can even add any number to it."
   ]
  },
  {
   "cell_type": "code",
   "execution_count": 5,
   "id": "0a71a928-5cb2-41a1-88d7-8ab4d127c79c",
   "metadata": {},
   "outputs": [
    {
     "data": {
      "text/plain": [
       "8"
      ]
     },
     "execution_count": 5,
     "metadata": {},
     "output_type": "execute_result"
    }
   ],
   "source": [
    "x"
   ]
  },
  {
   "cell_type": "code",
   "execution_count": 6,
   "id": "67043f7b-3f0b-4336-9ea6-e2241bdeaa1b",
   "metadata": {},
   "outputs": [],
   "source": [
    "y = 8 #Here we learn how to assign a variable, notice that it is case sensitive."
   ]
  },
  {
   "cell_type": "code",
   "execution_count": 7,
   "id": "49e7d3b5-44a1-4ed6-82d2-6c89b99f7e96",
   "metadata": {},
   "outputs": [
    {
     "data": {
      "text/plain": [
       "8"
      ]
     },
     "execution_count": 7,
     "metadata": {},
     "output_type": "execute_result"
    }
   ],
   "source": [
    "y"
   ]
  },
  {
   "cell_type": "code",
   "execution_count": 8,
   "id": "20ca4823-be3d-4605-a3b0-8cd081de89ad",
   "metadata": {},
   "outputs": [
    {
     "name": "stdout",
     "output_type": "stream",
     "text": [
      "8\n"
     ]
    }
   ],
   "source": [
    "print(y) #Here we see the most common function we'll use to print a variable."
   ]
  },
  {
   "cell_type": "code",
   "execution_count": 9,
   "id": "2ba74072-7615-4437-bfbc-44b269aa3428",
   "metadata": {},
   "outputs": [],
   "source": [
    "x,y = (1,2) #We can also assign variables at the same time in a single line."
   ]
  },
  {
   "cell_type": "code",
   "execution_count": 10,
   "id": "c295d34e-c0d3-45fc-8212-a3f12d52dd65",
   "metadata": {},
   "outputs": [
    {
     "data": {
      "text/plain": [
       "1"
      ]
     },
     "execution_count": 10,
     "metadata": {},
     "output_type": "execute_result"
    }
   ],
   "source": [
    "x"
   ]
  },
  {
   "cell_type": "code",
   "execution_count": 11,
   "id": "5046198b-e356-4217-aa66-a99fc5daad88",
   "metadata": {},
   "outputs": [
    {
     "data": {
      "text/plain": [
       "2"
      ]
     },
     "execution_count": 11,
     "metadata": {},
     "output_type": "execute_result"
    }
   ],
   "source": [
    "y"
   ]
  },
  {
   "cell_type": "code",
   "execution_count": 12,
   "id": "21cce5e4-a1b9-4ac5-80cf-517073d5e901",
   "metadata": {},
   "outputs": [],
   "source": [
    "x1 = 5 "
   ]
  },
  {
   "cell_type": "code",
   "execution_count": 13,
   "id": "babae432-5325-4212-ac28-37f01b5a4ce5",
   "metadata": {},
   "outputs": [
    {
     "data": {
      "text/plain": [
       "int"
      ]
     },
     "execution_count": 13,
     "metadata": {},
     "output_type": "execute_result"
    }
   ],
   "source": [
    "type(x1) #We can check what type of variable we are dealing with using this function"
   ]
  },
  {
   "cell_type": "code",
   "execution_count": 14,
   "id": "0e6f7e43-ca51-4daf-83d2-e8bbdb66ccd5",
   "metadata": {},
   "outputs": [
    {
     "data": {
      "text/plain": [
       "int"
      ]
     },
     "execution_count": 14,
     "metadata": {},
     "output_type": "execute_result"
    }
   ],
   "source": [
    "type(-6)"
   ]
  },
  {
   "cell_type": "code",
   "execution_count": 15,
   "id": "48e37bb0-8709-40b1-af50-2c69c3a54cd3",
   "metadata": {},
   "outputs": [],
   "source": [
    "x2 = 4.75"
   ]
  },
  {
   "cell_type": "code",
   "execution_count": 16,
   "id": "d22fb59b-7f8d-4998-8fb9-39a3c01ec3fd",
   "metadata": {},
   "outputs": [
    {
     "data": {
      "text/plain": [
       "float"
      ]
     },
     "execution_count": 16,
     "metadata": {},
     "output_type": "execute_result"
    }
   ],
   "source": [
    "type(x2)"
   ]
  },
  {
   "cell_type": "code",
   "execution_count": 17,
   "id": "4ddaf9ff-7599-4bd3-afa6-f461ed3965b6",
   "metadata": {},
   "outputs": [
    {
     "data": {
      "text/plain": [
       "4"
      ]
     },
     "execution_count": 17,
     "metadata": {},
     "output_type": "execute_result"
    }
   ],
   "source": [
    "int(x2) #We can use the types as functions to change the type of a variable or number."
   ]
  },
  {
   "cell_type": "code",
   "execution_count": 18,
   "id": "576ca5c4-0f26-4882-a23e-8873cd5a115d",
   "metadata": {},
   "outputs": [
    {
     "data": {
      "text/plain": [
       "5.0"
      ]
     },
     "execution_count": 18,
     "metadata": {},
     "output_type": "execute_result"
    }
   ],
   "source": [
    "float(5)"
   ]
  },
  {
   "cell_type": "code",
   "execution_count": 19,
   "id": "2ec0756d-990e-432a-9a29-cc5b54ab0850",
   "metadata": {},
   "outputs": [],
   "source": [
    "x3 = True #We can assign a variable to a simple Boolean value, and ask it's type. Notice that the value is case sensitive."
   ]
  },
  {
   "cell_type": "code",
   "execution_count": 20,
   "id": "3dd7cdfb-1782-4baa-9d63-658bf9971fcb",
   "metadata": {},
   "outputs": [
    {
     "data": {
      "text/plain": [
       "bool"
      ]
     },
     "execution_count": 20,
     "metadata": {},
     "output_type": "execute_result"
    }
   ],
   "source": [
    "type(x3)"
   ]
  },
  {
   "cell_type": "code",
   "execution_count": 21,
   "id": "9f2e3d2a-2481-42ec-be3c-d4fca0e660a4",
   "metadata": {},
   "outputs": [
    {
     "data": {
      "text/plain": [
       "'George'"
      ]
     },
     "execution_count": 21,
     "metadata": {},
     "output_type": "execute_result"
    }
   ],
   "source": [
    "\"George\" #Here we learn what a string is. Notice that it needs to be between quotes or double quotes for the command to work."
   ]
  },
  {
   "cell_type": "code",
   "execution_count": 22,
   "id": "2736b049-ec61-4149-9f5b-3cc896c28fb6",
   "metadata": {},
   "outputs": [
    {
     "name": "stdout",
     "output_type": "stream",
     "text": [
      "George\n"
     ]
    }
   ],
   "source": [
    "print('George')"
   ]
  },
  {
   "cell_type": "code",
   "execution_count": 23,
   "id": "7281f285-ced0-4aba-a12b-99e8a393871f",
   "metadata": {},
   "outputs": [],
   "source": [
    "x4 = 'George'"
   ]
  },
  {
   "cell_type": "code",
   "execution_count": 24,
   "id": "b9dab477-a83c-4164-aa91-63d54bc1179c",
   "metadata": {},
   "outputs": [
    {
     "data": {
      "text/plain": [
       "'George'"
      ]
     },
     "execution_count": 24,
     "metadata": {},
     "output_type": "execute_result"
    }
   ],
   "source": [
    "x4"
   ]
  },
  {
   "cell_type": "code",
   "execution_count": 25,
   "id": "94d92e86-c995-4565-923e-c0bddc7fcc34",
   "metadata": {},
   "outputs": [
    {
     "name": "stdout",
     "output_type": "stream",
     "text": [
      "10 Dollars\n"
     ]
    }
   ],
   "source": [
    "y = 10                    #Here we observe that we need to use 'str()' to convert a number into text to get the result we want.\n",
    "print (str(y) + ' Dollars')"
   ]
  },
  {
   "cell_type": "code",
   "execution_count": 26,
   "id": "211195a3-b28b-4e42-9819-ca5a14869b2e",
   "metadata": {},
   "outputs": [
    {
     "data": {
      "text/plain": [
       "\"I'm fine\""
      ]
     },
     "execution_count": 26,
     "metadata": {},
     "output_type": "execute_result"
    }
   ],
   "source": [
    "'I\\'m fine' #We see here that the space is used as an escape character for the string to work properly. Otherwise it'd return an error."
   ]
  },
  {
   "cell_type": "code",
   "execution_count": 27,
   "id": "8a8c22c7-27f0-48f3-8497-f4743c59c112",
   "metadata": {},
   "outputs": [
    {
     "data": {
      "text/plain": [
       "'Press \"Enter\"'"
      ]
     },
     "execution_count": 27,
     "metadata": {},
     "output_type": "execute_result"
    }
   ],
   "source": [
    "'Press \"Enter\"'  #We can also observe that there are many ways we can write a string for it to appear as we want."
   ]
  },
  {
   "cell_type": "code",
   "execution_count": 28,
   "id": "c964bac6-20e6-4f7d-aa0c-157dfecbae22",
   "metadata": {},
   "outputs": [
    {
     "data": {
      "text/plain": [
       "'Redcar'"
      ]
     },
     "execution_count": 28,
     "metadata": {},
     "output_type": "execute_result"
    }
   ],
   "source": [
    "'Red''car'"
   ]
  },
  {
   "cell_type": "code",
   "execution_count": 29,
   "id": "7b334ae8-c6c9-4312-ab20-79326acc1850",
   "metadata": {},
   "outputs": [
    {
     "data": {
      "text/plain": [
       "'Red Car'"
      ]
     },
     "execution_count": 29,
     "metadata": {},
     "output_type": "execute_result"
    }
   ],
   "source": [
    "'Red ''Car'"
   ]
  },
  {
   "cell_type": "code",
   "execution_count": 30,
   "id": "47ece284-bdb7-40bc-917a-f5765af213b9",
   "metadata": {},
   "outputs": [
    {
     "data": {
      "text/plain": [
       "'Red Car'"
      ]
     },
     "execution_count": 30,
     "metadata": {},
     "output_type": "execute_result"
    }
   ],
   "source": [
    "'Red ' + 'Car'"
   ]
  },
  {
   "cell_type": "code",
   "execution_count": 31,
   "id": "3caec525-2757-4a33-b825-96a10ad8e906",
   "metadata": {},
   "outputs": [
    {
     "name": "stdout",
     "output_type": "stream",
     "text": [
      "Red Car\n"
     ]
    }
   ],
   "source": [
    "print ('Red ' + 'Car')"
   ]
  },
  {
   "cell_type": "code",
   "execution_count": 32,
   "id": "102a4f4e-d2ba-4fd6-814d-aa4ded90caf4",
   "metadata": {},
   "outputs": [
    {
     "name": "stdout",
     "output_type": "stream",
     "text": [
      "Red Car\n"
     ]
    }
   ],
   "source": [
    "print ('Red' , 'Car') #We don't need to have the space after the word if we use a trailing comma."
   ]
  },
  {
   "cell_type": "code",
   "execution_count": 33,
   "id": "73009d77-3530-4075-a1c2-c76755a92601",
   "metadata": {},
   "outputs": [
    {
     "name": "stdout",
     "output_type": "stream",
     "text": [
      "3 5\n"
     ]
    }
   ],
   "source": [
    "print (3,5)"
   ]
  },
  {
   "cell_type": "code",
   "execution_count": 34,
   "id": "a93a171c-54ec-4202-be43-d7ca1577bbec",
   "metadata": {},
   "outputs": [
    {
     "data": {
      "text/plain": [
       "(3, 4, 6.9, 7.0, 'Car')"
      ]
     },
     "execution_count": 34,
     "metadata": {},
     "output_type": "execute_result"
    }
   ],
   "source": [
    "3,4,6.9,7.0,\"Car\""
   ]
  },
  {
   "cell_type": "code",
   "execution_count": 35,
   "id": "2c3ecc2f-7e6c-4c10-aea5-b0fb9a63ab20",
   "metadata": {},
   "outputs": [
    {
     "data": {
      "text/plain": [
       "3"
      ]
     },
     "execution_count": 35,
     "metadata": {},
     "output_type": "execute_result"
    }
   ],
   "source": [
    "1 + 2  #As we see here we can use operations normally using Python."
   ]
  },
  {
   "cell_type": "code",
   "execution_count": 36,
   "id": "d724c6ec-c9a1-480b-b954-0168915b8b31",
   "metadata": {},
   "outputs": [
    {
     "data": {
      "text/plain": [
       "-2"
      ]
     },
     "execution_count": 36,
     "metadata": {},
     "output_type": "execute_result"
    }
   ],
   "source": [
    "3 - 5"
   ]
  },
  {
   "cell_type": "code",
   "execution_count": 37,
   "id": "6160062b-9e84-4ce4-a60a-95797ca1a4ba",
   "metadata": {},
   "outputs": [
    {
     "data": {
      "text/plain": [
       "5.0"
      ]
     },
     "execution_count": 37,
     "metadata": {},
     "output_type": "execute_result"
    }
   ],
   "source": [
    "15/3"
   ]
  },
  {
   "cell_type": "code",
   "execution_count": 38,
   "id": "f73ba9d6-801d-42de-af0a-51f34554d747",
   "metadata": {},
   "outputs": [
    {
     "data": {
      "text/plain": [
       "5.333333333333333"
      ]
     },
     "execution_count": 38,
     "metadata": {},
     "output_type": "execute_result"
    }
   ],
   "source": [
    "16 / 3"
   ]
  },
  {
   "cell_type": "code",
   "execution_count": 39,
   "id": "da70f580-e203-4773-b528-bfe93010ec66",
   "metadata": {},
   "outputs": [
    {
     "data": {
      "text/plain": [
       "1"
      ]
     },
     "execution_count": 39,
     "metadata": {},
     "output_type": "execute_result"
    }
   ],
   "source": [
    "16 % 3  #We use the percentage sign to indicate we want to find the remainder of the division."
   ]
  },
  {
   "cell_type": "code",
   "execution_count": 40,
   "id": "2725c7c2-84ff-42ee-8272-c4e9d2a02c5a",
   "metadata": {},
   "outputs": [
    {
     "data": {
      "text/plain": [
       "15"
      ]
     },
     "execution_count": 40,
     "metadata": {},
     "output_type": "execute_result"
    }
   ],
   "source": [
    "5 * 3"
   ]
  },
  {
   "cell_type": "code",
   "execution_count": 41,
   "id": "0b09a9ce-624e-40e0-80ea-d562b6e7363c",
   "metadata": {},
   "outputs": [],
   "source": [
    "x = 5 * 3"
   ]
  },
  {
   "cell_type": "code",
   "execution_count": 42,
   "id": "a0cdd29a-9a8c-42ed-ad8b-4f39e1dae163",
   "metadata": {},
   "outputs": [
    {
     "data": {
      "text/plain": [
       "15"
      ]
     },
     "execution_count": 42,
     "metadata": {},
     "output_type": "execute_result"
    }
   ],
   "source": [
    "x"
   ]
  },
  {
   "cell_type": "code",
   "execution_count": 43,
   "id": "a95113c9-e9ec-430f-bc8c-21a79b608117",
   "metadata": {},
   "outputs": [
    {
     "data": {
      "text/plain": [
       "125"
      ]
     },
     "execution_count": 43,
     "metadata": {},
     "output_type": "execute_result"
    }
   ],
   "source": [
    "5 ** 3"
   ]
  },
  {
   "cell_type": "code",
   "execution_count": 44,
   "id": "9c43bf01-ff2f-434f-bba7-f58d4e81ae80",
   "metadata": {},
   "outputs": [],
   "source": [
    "y = 5 ** 3  "
   ]
  },
  {
   "cell_type": "code",
   "execution_count": 45,
   "id": "6267fc76-a9d8-471c-918a-6e5cbf24ca69",
   "metadata": {},
   "outputs": [
    {
     "data": {
      "text/plain": [
       "125"
      ]
     },
     "execution_count": 45,
     "metadata": {},
     "output_type": "execute_result"
    }
   ],
   "source": [
    "y  "
   ]
  },
  {
   "cell_type": "code",
   "execution_count": 46,
   "id": "d6e218cf-015d-4e35-ad9b-21726a59e320",
   "metadata": {},
   "outputs": [
    {
     "data": {
      "text/plain": [
       "True"
      ]
     },
     "execution_count": 46,
     "metadata": {},
     "output_type": "execute_result"
    }
   ],
   "source": [
    "y == 125   #When we define the variable 'y' we can use the '==' to return a boolean value to tell us if that value is correct."
   ]
  },
  {
   "cell_type": "code",
   "execution_count": 47,
   "id": "bc87553b-9e76-4ef1-ad51-8c39a5d5dd41",
   "metadata": {},
   "outputs": [
    {
     "data": {
      "text/plain": [
       "False"
      ]
     },
     "execution_count": 47,
     "metadata": {},
     "output_type": "execute_result"
    }
   ],
   "source": [
    "y == 126"
   ]
  },
  {
   "cell_type": "code",
   "execution_count": 48,
   "id": "108122f9-4a6c-494a-960b-a26c251c809f",
   "metadata": {},
   "outputs": [
    {
     "data": {
      "text/plain": [
       "8.0"
      ]
     },
     "execution_count": 48,
     "metadata": {},
     "output_type": "execute_result"
    }
   ],
   "source": [
    "2.0 * 1.5 + \\\n",
    "5            #We use the inverted bar to jump the line downwards but continue the operation normally. That counts for the comment line as well.\n",
    "             #Notice that we can't put any character after the bar."
   ]
  },
  {
   "cell_type": "code",
   "execution_count": 49,
   "id": "8bec01c3-2d62-427c-a030-bc2060fc60d4",
   "metadata": {},
   "outputs": [
    {
     "data": {
      "text/plain": [
       "'a'"
      ]
     },
     "execution_count": 49,
     "metadata": {},
     "output_type": "execute_result"
    }
   ],
   "source": [
    "\"Friday\"[4] #When we have a group or a word we can do something called indexing to find an element or character. Remember to count from 0 onward."
   ]
  },
  {
   "cell_type": "code",
   "execution_count": 50,
   "id": "0e6db4d6-b270-4053-84f9-50feea4b9c12",
   "metadata": {},
   "outputs": [
    {
     "name": "stdout",
     "output_type": "stream",
     "text": [
      "5\n"
     ]
    }
   ],
   "source": [
    "def five(x):    #Here is where things start getting interesting. We define a function called 'five' at an unkown x.\n",
    "    x = 5      #Here we define x and ask the function to return us the result.\n",
    "    return x    #This is the first block of code/command. (1)\n",
    "                                                              #Here we see and understand why identation is important when coding.\n",
    "print (five(3)) #This is the second block of code/command.(2)"
   ]
  },
  {
   "cell_type": "code",
   "execution_count": 51,
   "id": "c9710cc4-fae9-4f5f-abba-bfaa623d2e65",
   "metadata": {},
   "outputs": [
    {
     "data": {
      "text/plain": [
       "True"
      ]
     },
     "execution_count": 51,
     "metadata": {},
     "output_type": "execute_result"
    }
   ],
   "source": [
    "10 == 20 / 2   #All operations below are Comparison Operators which return a boolean value."
   ]
  },
  {
   "cell_type": "code",
   "execution_count": 52,
   "id": "2b809650-722a-424d-bf00-46c0d4da1ce3",
   "metadata": {},
   "outputs": [
    {
     "data": {
      "text/plain": [
       "False"
      ]
     },
     "execution_count": 52,
     "metadata": {},
     "output_type": "execute_result"
    }
   ],
   "source": [
    "10 != 10   #The sign '!=' means 'It is not'"
   ]
  },
  {
   "cell_type": "code",
   "execution_count": 53,
   "id": "c3d9fb60-816f-431e-9ca8-f22ad2076b0c",
   "metadata": {},
   "outputs": [
    {
     "data": {
      "text/plain": [
       "True"
      ]
     },
     "execution_count": 53,
     "metadata": {},
     "output_type": "execute_result"
    }
   ],
   "source": [
    "10 != 15"
   ]
  },
  {
   "cell_type": "code",
   "execution_count": 54,
   "id": "86b3acdd-f79b-4c75-9f0e-0581814c8556",
   "metadata": {},
   "outputs": [
    {
     "data": {
      "text/plain": [
       "True"
      ]
     },
     "execution_count": 54,
     "metadata": {},
     "output_type": "execute_result"
    }
   ],
   "source": [
    "100 > 50"
   ]
  },
  {
   "cell_type": "code",
   "execution_count": 55,
   "id": "6688cf2f-40aa-40a0-b8bd-9292a0205e6f",
   "metadata": {},
   "outputs": [
    {
     "data": {
      "text/plain": [
       "False"
      ]
     },
     "execution_count": 55,
     "metadata": {},
     "output_type": "execute_result"
    }
   ],
   "source": [
    "100 < 50"
   ]
  },
  {
   "cell_type": "code",
   "execution_count": 56,
   "id": "ee44d7cb-3a15-4976-bfbc-6f3bdf26634f",
   "metadata": {},
   "outputs": [
    {
     "data": {
      "text/plain": [
       "False"
      ]
     },
     "execution_count": 56,
     "metadata": {},
     "output_type": "execute_result"
    }
   ],
   "source": [
    "15 >= 10 + 10"
   ]
  },
  {
   "cell_type": "code",
   "execution_count": 57,
   "id": "78289ca4-6ea7-4816-880f-0edc36c9091c",
   "metadata": {},
   "outputs": [
    {
     "data": {
      "text/plain": [
       "True"
      ]
     },
     "execution_count": 57,
     "metadata": {},
     "output_type": "execute_result"
    }
   ],
   "source": [
    "15 <= 10 + 5"
   ]
  },
  {
   "cell_type": "code",
   "execution_count": 58,
   "id": "79af23e0-85fe-4316-b31a-f570d376697b",
   "metadata": {},
   "outputs": [
    {
     "data": {
      "text/plain": [
       "False"
      ]
     },
     "execution_count": 58,
     "metadata": {},
     "output_type": "execute_result"
    }
   ],
   "source": [
    "True and not True   #These are called Logical and Identity Operators. Notice the priority: NOT - AND - OR"
   ]
  },
  {
   "cell_type": "code",
   "execution_count": 59,
   "id": "37d29aa5-6ee8-4e4c-a699-01f2e4350af8",
   "metadata": {},
   "outputs": [
    {
     "data": {
      "text/plain": [
       "False"
      ]
     },
     "execution_count": 59,
     "metadata": {},
     "output_type": "execute_result"
    }
   ],
   "source": [
    "False or not True and True"
   ]
  },
  {
   "cell_type": "code",
   "execution_count": 60,
   "id": "1b11f2cd-d957-410c-bf6c-6e73a2eb625e",
   "metadata": {},
   "outputs": [
    {
     "data": {
      "text/plain": [
       "True"
      ]
     },
     "execution_count": 60,
     "metadata": {},
     "output_type": "execute_result"
    }
   ],
   "source": [
    "True and not True or True"
   ]
  },
  {
   "cell_type": "code",
   "execution_count": 61,
   "id": "1a4aba10-3151-4027-9e13-245660bd36d2",
   "metadata": {},
   "outputs": [
    {
     "name": "stderr",
     "output_type": "stream",
     "text": [
      "<>:1: SyntaxWarning: \"is\" with 'int' literal. Did you mean \"==\"?\n",
      "<>:1: SyntaxWarning: \"is\" with 'int' literal. Did you mean \"==\"?\n",
      "C:\\Users\\btcab\\AppData\\Local\\Temp\\ipykernel_10164\\2378990730.py:1: SyntaxWarning: \"is\" with 'int' literal. Did you mean \"==\"?\n",
      "  5 is 6  #Notice that both are the same, even though it returns an error when using 'is' or 'is not' with and integer.\n"
     ]
    },
    {
     "data": {
      "text/plain": [
       "False"
      ]
     },
     "execution_count": 61,
     "metadata": {},
     "output_type": "execute_result"
    }
   ],
   "source": [
    "5 is 6  #Notice that both are the same, even though it returns an error when using 'is' or 'is not' with and integer.\n",
    "5 == 6"
   ]
  },
  {
   "cell_type": "code",
   "execution_count": 62,
   "id": "07d20c47-bedc-41f7-a7c6-8c4238308074",
   "metadata": {},
   "outputs": [
    {
     "name": "stderr",
     "output_type": "stream",
     "text": [
      "<>:1: SyntaxWarning: \"is not\" with 'int' literal. Did you mean \"!=\"?\n",
      "<>:1: SyntaxWarning: \"is not\" with 'int' literal. Did you mean \"!=\"?\n",
      "C:\\Users\\btcab\\AppData\\Local\\Temp\\ipykernel_10164\\2831599555.py:1: SyntaxWarning: \"is not\" with 'int' literal. Did you mean \"!=\"?\n",
      "  5 is not 6\n"
     ]
    },
    {
     "data": {
      "text/plain": [
       "True"
      ]
     },
     "execution_count": 62,
     "metadata": {},
     "output_type": "execute_result"
    }
   ],
   "source": [
    "5 is not 6\n",
    "5 != 6"
   ]
  },
  {
   "cell_type": "code",
   "execution_count": 63,
   "id": "882b1a96-c89d-4754-8ba8-d697503a58f9",
   "metadata": {},
   "outputs": [
    {
     "name": "stdout",
     "output_type": "stream",
     "text": [
      "Hooray!!!!\n"
     ]
    }
   ],
   "source": [
    "if 5 == 15 / 3:      #Here we see a Conditional statement. Notice that the text only prints if the conditional statement is true.\n",
    "    print (\"Hooray!!!!\")"
   ]
  },
  {
   "cell_type": "code",
   "execution_count": 64,
   "id": "d2b8f952-4335-48c9-9e3b-7b145fe26ffa",
   "metadata": {},
   "outputs": [],
   "source": [
    "if 5 == 18 / 3:\n",
    "    print (\"Hooray!!!\")"
   ]
  },
  {
   "cell_type": "code",
   "execution_count": 65,
   "id": "6538f892-596c-4b3d-b29f-fa0765cbe4ae",
   "metadata": {},
   "outputs": [
    {
     "name": "stdout",
     "output_type": "stream",
     "text": [
      "Let's Go!!!!\n"
     ]
    }
   ],
   "source": [
    "if 5 != 3 * 6:\n",
    "    print (\"Let's Go!!!!\")"
   ]
  },
  {
   "cell_type": "code",
   "execution_count": 66,
   "id": "f1c65b15-12b9-4918-90bc-beb55de57da9",
   "metadata": {},
   "outputs": [
    {
     "name": "stdout",
     "output_type": "stream",
     "text": [
      "Case 2\n"
     ]
    }
   ],
   "source": [
    " x = 1              #The 'else' function is used so that the code runs in a different way if the statement is false.\n",
    "                    #Notice that identation is important.\n",
    "if x > 3:           #This is the first block of code/command.(1)\n",
    "    print (\"Case 1\")\n",
    "else:               #This is the second block of code/command.(2)\n",
    "    print (\"Case 2\")"
   ]
  },
  {
   "cell_type": "code",
   "execution_count": 67,
   "id": "f640583f-e4c3-4d02-accd-0510d0dda881",
   "metadata": {},
   "outputs": [],
   "source": [
    "def compare_to_five(y): #Here we see how to use the 'elif' function to create more ways, not only 2 (True or False).\n",
    "    if y > 5:            #Notice that identation is still important, and the computer will read the command from top to bottom.\n",
    "        return \"Greater than five\" #We didn't define a value to the variable 'y' exactly because we want to be able to input the value as we need.\n",
    "    elif y < 0:\n",
    "        return \"Negative Number\"\n",
    "    elif y < 5:\n",
    "        return \"Less than five\"\n",
    "    else:\n",
    "        return \"This is the number 5 come on\""
   ]
  },
  {
   "cell_type": "code",
   "execution_count": 68,
   "id": "e3386520-88f6-4afb-83f2-593e32859e2f",
   "metadata": {},
   "outputs": [
    {
     "name": "stdout",
     "output_type": "stream",
     "text": [
      "Negative Number\n"
     ]
    }
   ],
   "source": [
    "print (compare_to_five(-3))"
   ]
  },
  {
   "cell_type": "code",
   "execution_count": 69,
   "id": "13f2ce00-12e1-4356-beac-9441cf6a8758",
   "metadata": {},
   "outputs": [
    {
     "name": "stdout",
     "output_type": "stream",
     "text": [
      "Less than five\n"
     ]
    }
   ],
   "source": [
    "print (compare_to_five(3))"
   ]
  },
  {
   "cell_type": "code",
   "execution_count": 70,
   "id": "c3123370-e2de-4c26-8fbb-882a0e478814",
   "metadata": {},
   "outputs": [
    {
     "name": "stdout",
     "output_type": "stream",
     "text": [
      "This is the number 5 come on\n"
     ]
    }
   ],
   "source": [
    "print (compare_to_five(5))"
   ]
  },
  {
   "cell_type": "code",
   "execution_count": 71,
   "id": "266805d4-c924-4bf4-b2ca-c46076b780d6",
   "metadata": {},
   "outputs": [
    {
     "name": "stdout",
     "output_type": "stream",
     "text": [
      "Greater than five\n"
     ]
    }
   ],
   "source": [
    "print (compare_to_five(23))"
   ]
  },
  {
   "cell_type": "code",
   "execution_count": 72,
   "id": "e71d3cd1-5d06-45e5-b783-b30f058515d1",
   "metadata": {},
   "outputs": [
    {
     "name": "stdout",
     "output_type": "stream",
     "text": [
      "Correct\n"
     ]
    }
   ],
   "source": [
    "x = 5   #A quick note on Bolean values is that when you assign the 'Correct' string, since the order matters we need to assign the 'True' value first\n",
    "if x > 4:\n",
    "    print (\"Correct\")\n",
    "else:\n",
    "    print (\"Incorrect\")"
   ]
  },
  {
   "cell_type": "code",
   "execution_count": 73,
   "id": "c0187b7a-8873-4b4f-9531-5340783f2f25",
   "metadata": {},
   "outputs": [],
   "source": [
    "def simple(): #Here is how you can define a function, what's in blue is it's name and what's inside the parentheses are the parameters.\n",
    "    print (\"This is my first function yay!\") #This is the funtions body, which will run as we like when we call the function's name."
   ]
  },
  {
   "cell_type": "code",
   "execution_count": 74,
   "id": "c410ea84-5f3b-4a06-bf17-136718cbc11c",
   "metadata": {},
   "outputs": [
    {
     "name": "stdout",
     "output_type": "stream",
     "text": [
      "This is my first function yay!\n"
     ]
    }
   ],
   "source": [
    "simple()"
   ]
  },
  {
   "cell_type": "code",
   "execution_count": 75,
   "id": "72d87e4f-4e56-4c94-b67b-fbc289d77d0f",
   "metadata": {},
   "outputs": [],
   "source": [
    "def plus_ten(a):\n",
    "    return a + 10"
   ]
  },
  {
   "cell_type": "code",
   "execution_count": 76,
   "id": "29c59c12-17f6-4258-9b32-a86d44e7f5c4",
   "metadata": {},
   "outputs": [
    {
     "data": {
      "text/plain": [
       "12"
      ]
     },
     "execution_count": 76,
     "metadata": {},
     "output_type": "execute_result"
    }
   ],
   "source": [
    "plus_ten(2)"
   ]
  },
  {
   "cell_type": "code",
   "execution_count": 77,
   "id": "2faea853-aa85-45ff-88c9-834e0111f9f6",
   "metadata": {},
   "outputs": [
    {
     "data": {
      "text/plain": [
       "213133"
      ]
     },
     "execution_count": 77,
     "metadata": {},
     "output_type": "execute_result"
    }
   ],
   "source": [
    "plus_ten(213123)"
   ]
  },
  {
   "cell_type": "code",
   "execution_count": 78,
   "id": "32fe1f23-3f1b-44d8-9f6a-a7a7a4a4290a",
   "metadata": {},
   "outputs": [],
   "source": [
    "def plus_ten(a):     #Note that the 'print' function doesn't affect the calculation of the output.\n",
    "    result = a + 10\n",
    "    print ('Outcome is:')\n",
    "    return result   #And the 'return' function doesn't visualize the output; it specifies what a certain function is supposed to give back"
   ]
  },
  {
   "cell_type": "code",
   "execution_count": 79,
   "id": "71a312e9-c7c6-411c-9628-b8bf4c271483",
   "metadata": {},
   "outputs": [
    {
     "name": "stdout",
     "output_type": "stream",
     "text": [
      "Outcome is:\n"
     ]
    },
    {
     "data": {
      "text/plain": [
       "13"
      ]
     },
     "execution_count": 79,
     "metadata": {},
     "output_type": "execute_result"
    }
   ],
   "source": [
    "plus_ten(3)"
   ]
  },
  {
   "cell_type": "code",
   "execution_count": 80,
   "id": "c3f7f8c6-ffbf-4531-b989-fb3c318e9b63",
   "metadata": {},
   "outputs": [],
   "source": [
    "def wage(w_hours):      #Here we see how we can write a function within another function.\n",
    "    return w_hours * 45.50\n",
    "\n",
    "def with_bonus(w_hours):\n",
    "    return wage(w_hours) + 500"
   ]
  },
  {
   "cell_type": "code",
   "execution_count": 81,
   "id": "95b3f606-d019-4a51-b02c-cb0c95c9fe13",
   "metadata": {},
   "outputs": [
    {
     "data": {
      "text/plain": [
       "(364.0, 864.0)"
      ]
     },
     "execution_count": 81,
     "metadata": {},
     "output_type": "execute_result"
    }
   ],
   "source": [
    "wage(8), with_bonus(8)"
   ]
  },
  {
   "cell_type": "code",
   "execution_count": 82,
   "id": "586ccbd7-74e1-4cb1-94f2-47ee4777f1a3",
   "metadata": {},
   "outputs": [],
   "source": [
    "def add_10(m):  #Here we see how we can mix things up and put a conditional statement inside the defiend function.\n",
    "    if m >= 100:\n",
    "        m = m + 10  #Note that the '=' sign means to assign or 'bind to'\n",
    "        return m\n",
    "    else:\n",
    "        return \"Save more money bro!\""
   ]
  },
  {
   "cell_type": "code",
   "execution_count": 83,
   "id": "ac6cc2c0-0cc9-4783-894d-bb1773e4ea9d",
   "metadata": {},
   "outputs": [
    {
     "data": {
      "text/plain": [
       "120"
      ]
     },
     "execution_count": 83,
     "metadata": {},
     "output_type": "execute_result"
    }
   ],
   "source": [
    "add_10(110)"
   ]
  },
  {
   "cell_type": "code",
   "execution_count": 84,
   "id": "6a29e7dd-9a57-45d8-9de4-d380067a288c",
   "metadata": {},
   "outputs": [
    {
     "data": {
      "text/plain": [
       "'Save more money bro!'"
      ]
     },
     "execution_count": 84,
     "metadata": {},
     "output_type": "execute_result"
    }
   ],
   "source": [
    "add_10(50)"
   ]
  },
  {
   "cell_type": "code",
   "execution_count": 85,
   "id": "2b9a4eba-1133-4ec4-ad05-f65c23536565",
   "metadata": {},
   "outputs": [],
   "source": [
    "def subtract_bc(a,b,c):\n",
    "    result = a - b * c\n",
    "    print ('Parameter a equals', a)\n",
    "    print ('Parameter b equals', b)\n",
    "    print ('Parameter c equals', c)\n",
    "    print ('The equation results to:')\n",
    "    return result"
   ]
  },
  {
   "cell_type": "code",
   "execution_count": 86,
   "id": "4f0b6b0c-fa72-477e-8f7a-d2082a430b89",
   "metadata": {},
   "outputs": [
    {
     "name": "stdout",
     "output_type": "stream",
     "text": [
      "Parameter a equals 10\n",
      "Parameter b equals 3\n",
      "Parameter c equals 2\n",
      "The equation results to:\n"
     ]
    },
    {
     "data": {
      "text/plain": [
       "4"
      ]
     },
     "execution_count": 86,
     "metadata": {},
     "output_type": "execute_result"
    }
   ],
   "source": [
    "subtract_bc(10,3,2)"
   ]
  },
  {
   "cell_type": "code",
   "execution_count": 87,
   "id": "c1835aec-1988-4b16-81c3-e9dc5153892d",
   "metadata": {},
   "outputs": [],
   "source": [
    "#Now we are going to see a couple Notable Built-in Function in Python 3"
   ]
  },
  {
   "cell_type": "code",
   "execution_count": 88,
   "id": "ff42beb8-f273-4aa3-b59e-04a56f45a461",
   "metadata": {},
   "outputs": [
    {
     "data": {
      "text/plain": [
       "int"
      ]
     },
     "execution_count": 88,
     "metadata": {},
     "output_type": "execute_result"
    }
   ],
   "source": [
    "type(10)   #Here we are checking the characteristic of the argument."
   ]
  },
  {
   "cell_type": "code",
   "execution_count": 89,
   "id": "4e09dcab-541d-4631-83fe-e4a41038d535",
   "metadata": {},
   "outputs": [
    {
     "data": {
      "text/plain": [
       "5"
      ]
     },
     "execution_count": 89,
     "metadata": {},
     "output_type": "execute_result"
    }
   ],
   "source": [
    "int(5.0)   #Here we transform the argument into an integer."
   ]
  },
  {
   "cell_type": "code",
   "execution_count": 90,
   "id": "4f4f55b0-62d3-417b-994e-dd058b91f593",
   "metadata": {},
   "outputs": [
    {
     "data": {
      "text/plain": [
       "3.0"
      ]
     },
     "execution_count": 90,
     "metadata": {},
     "output_type": "execute_result"
    }
   ],
   "source": [
    "float(3)    #Transform it into a float."
   ]
  },
  {
   "cell_type": "code",
   "execution_count": 91,
   "id": "8556e0d9-87c8-4f9b-9a5f-792ffe75cb24",
   "metadata": {},
   "outputs": [
    {
     "data": {
      "text/plain": [
       "'500'"
      ]
     },
     "execution_count": 91,
     "metadata": {},
     "output_type": "execute_result"
    }
   ],
   "source": [
    "str(500)    #Into a string."
   ]
  },
  {
   "cell_type": "code",
   "execution_count": 92,
   "id": "e61c86ca-49ad-4aee-98eb-614703533c65",
   "metadata": {},
   "outputs": [
    {
     "data": {
      "text/plain": [
       "30"
      ]
     },
     "execution_count": 92,
     "metadata": {},
     "output_type": "execute_result"
    }
   ],
   "source": [
    "max(10,20,30)    #We use this built-in function to find the biggest number inside the group of arguments."
   ]
  },
  {
   "cell_type": "code",
   "execution_count": 93,
   "id": "10ea2fdb-d78b-4770-bf5e-1b5605a7e698",
   "metadata": {},
   "outputs": [
    {
     "data": {
      "text/plain": [
       "10"
      ]
     },
     "execution_count": 93,
     "metadata": {},
     "output_type": "execute_result"
    }
   ],
   "source": [
    "min(10,20,30)  #And here to find the smallest."
   ]
  },
  {
   "cell_type": "code",
   "execution_count": 94,
   "id": "cadbb343-d80a-499b-97af-79f1db2e9596",
   "metadata": {},
   "outputs": [
    {
     "data": {
      "text/plain": [
       "20"
      ]
     },
     "execution_count": 94,
     "metadata": {},
     "output_type": "execute_result"
    }
   ],
   "source": [
    "z = -20  \n",
    "abs(z)  #We use this function to find the absolute value."
   ]
  },
  {
   "cell_type": "code",
   "execution_count": 95,
   "id": "d77e677e-7dfc-4aee-ab03-90f258c35b0d",
   "metadata": {},
   "outputs": [],
   "source": [
    "list_1 = [1,2,3,4]  #Here we can see how we create a list. We choose the name and then it's content."
   ]
  },
  {
   "cell_type": "code",
   "execution_count": 96,
   "id": "02beac02-fcb6-47ad-9d1d-480c1c00a147",
   "metadata": {},
   "outputs": [
    {
     "data": {
      "text/plain": [
       "10"
      ]
     },
     "execution_count": 96,
     "metadata": {},
     "output_type": "execute_result"
    }
   ],
   "source": [
    "sum(list_1)   #Then we can use the built-in functions to mess with it."
   ]
  },
  {
   "cell_type": "code",
   "execution_count": 97,
   "id": "a65aeb0a-5852-4779-acd4-4d50d210ba40",
   "metadata": {},
   "outputs": [
    {
     "data": {
      "text/plain": [
       "3.56"
      ]
     },
     "execution_count": 97,
     "metadata": {},
     "output_type": "execute_result"
    }
   ],
   "source": [
    "round(3.555,2) #In this function we can round the float number we have inside. After the comma is the number of decimals you want to round it to."
   ]
  },
  {
   "cell_type": "code",
   "execution_count": 98,
   "id": "bde65e9f-f121-4ef4-aa30-3da6e6182997",
   "metadata": {},
   "outputs": [
    {
     "data": {
      "text/plain": [
       "3"
      ]
     },
     "execution_count": 98,
     "metadata": {},
     "output_type": "execute_result"
    }
   ],
   "source": [
    "round(3.2) "
   ]
  },
  {
   "cell_type": "code",
   "execution_count": 99,
   "id": "77231b6c-10b3-479b-9b7c-30dea34b76f6",
   "metadata": {},
   "outputs": [
    {
     "data": {
      "text/plain": [
       "1024"
      ]
     },
     "execution_count": 99,
     "metadata": {},
     "output_type": "execute_result"
    }
   ],
   "source": [
    "2 ** 10"
   ]
  },
  {
   "cell_type": "code",
   "execution_count": 100,
   "id": "8e0faac1-27ca-4593-b0ef-6023fefc3631",
   "metadata": {},
   "outputs": [
    {
     "data": {
      "text/plain": [
       "1024"
      ]
     },
     "execution_count": 100,
     "metadata": {},
     "output_type": "execute_result"
    }
   ],
   "source": [
    "pow(2,10)  #We can use this function when we want to raise a number to a big one. The fisrt is the number you want to raise and the second/\n",
    "           #is the number you want to raise it to."
   ]
  },
  {
   "cell_type": "code",
   "execution_count": 101,
   "id": "545b782e-932e-47a4-bfc8-70f44a6f60f3",
   "metadata": {},
   "outputs": [
    {
     "data": {
      "text/plain": [
       "11"
      ]
     },
     "execution_count": 101,
     "metadata": {},
     "output_type": "execute_result"
    }
   ],
   "source": [
    "len('Mathematics') #When we want to count the number of characters in a word or in a group we can use this function."
   ]
  },
  {
   "cell_type": "code",
   "execution_count": 102,
   "id": "06847200-564c-4600-bb14-a8b3231e6c44",
   "metadata": {},
   "outputs": [],
   "source": [
    "#Now we are going to see how to create lists and how to mess with them."
   ]
  },
  {
   "cell_type": "code",
   "execution_count": 103,
   "id": "12ce3f1a-8601-4ac1-8bee-7353f65ddca6",
   "metadata": {},
   "outputs": [
    {
     "data": {
      "text/plain": [
       "['John', 'Leila', 'Gregory', 'Cate']"
      ]
     },
     "execution_count": 103,
     "metadata": {},
     "output_type": "execute_result"
    }
   ],
   "source": [
    "Participants = ['John', 'Leila', 'Gregory', 'Cate']\n",
    "Participants    #Notice that to see the list after you create it, you need to call it."
   ]
  },
  {
   "cell_type": "code",
   "execution_count": 104,
   "id": "a1fa3b2d-cf7c-43ad-94d0-713fb273e0f0",
   "metadata": {},
   "outputs": [
    {
     "name": "stdout",
     "output_type": "stream",
     "text": [
      "Leila\n"
     ]
    }
   ],
   "source": [
    "print (Participants[1]) #We can ask Python to call a single character from the list. Remember it is count from '0'."
   ]
  },
  {
   "cell_type": "code",
   "execution_count": 105,
   "id": "e0e20cbb-d26f-4bd2-8327-21bce1bea11b",
   "metadata": {},
   "outputs": [
    {
     "data": {
      "text/plain": [
       "'Gregory'"
      ]
     },
     "execution_count": 105,
     "metadata": {},
     "output_type": "execute_result"
    }
   ],
   "source": [
    "Participants[-2] #We don't necessarily need the 'print' function to call it. We can also count backwards, but then we count from '-1'."
   ]
  },
  {
   "cell_type": "code",
   "execution_count": 106,
   "id": "118cff4f-621d-4188-817c-7d1281da7aac",
   "metadata": {},
   "outputs": [
    {
     "data": {
      "text/plain": [
       "['John', 'Leila', 'Gregory', 'Maria']"
      ]
     },
     "execution_count": 106,
     "metadata": {},
     "output_type": "execute_result"
    }
   ],
   "source": [
    "Participants[3] = 'Maria' #We can add/substitute an element to the list like this. And remember to call it to see if the element was added properly.\n",
    "Participants"
   ]
  },
  {
   "cell_type": "code",
   "execution_count": 107,
   "id": "4de49863-fd1c-4015-a1a0-401f9895a552",
   "metadata": {},
   "outputs": [
    {
     "data": {
      "text/plain": [
       "['John', 'Leila', 'Maria']"
      ]
     },
     "execution_count": 107,
     "metadata": {},
     "output_type": "execute_result"
    }
   ],
   "source": [
    "del Participants[2]  #We can also use the 'del' function to delete a specific element in the list.\n",
    "Participants"
   ]
  },
  {
   "cell_type": "code",
   "execution_count": 108,
   "id": "a417915d-502c-4073-87d8-aeec1a1dbd53",
   "metadata": {},
   "outputs": [
    {
     "data": {
      "text/plain": [
       "'Maria'"
      ]
     },
     "execution_count": 108,
     "metadata": {},
     "output_type": "execute_result"
    }
   ],
   "source": [
    "Participants[2]"
   ]
  },
  {
   "cell_type": "code",
   "execution_count": 109,
   "id": "7ee25086-59ff-41e9-b033-826e8d36eec1",
   "metadata": {},
   "outputs": [],
   "source": [
    "#Here we are going to learn about methods and how to use them to mess with the list."
   ]
  },
  {
   "cell_type": "code",
   "execution_count": 110,
   "id": "0da33429-467b-4440-af99-0fe89687aa55",
   "metadata": {},
   "outputs": [
    {
     "data": {
      "text/plain": [
       "['John', 'Leila', 'Maria', 'Dwayne']"
      ]
     },
     "execution_count": 110,
     "metadata": {},
     "output_type": "execute_result"
    }
   ],
   "source": [
    "Participants.append('Dwayne')  #The 'append' method is used to add an element to the list at the very end.\n",
    "Participants"
   ]
  },
  {
   "cell_type": "code",
   "execution_count": 111,
   "id": "10102212-d720-4a0e-a37a-f86666a82d05",
   "metadata": {},
   "outputs": [
    {
     "data": {
      "text/plain": [
       "['John', 'Leila', 'Maria', 'Dwayne', 'George', 'Catherine']"
      ]
     },
     "execution_count": 111,
     "metadata": {},
     "output_type": "execute_result"
    }
   ],
   "source": [
    "Participants.extend(['George', 'Catherine']) #The 'extend' method is used for the same purpose however, it is used to add more than one element.\n",
    "Participants"
   ]
  },
  {
   "cell_type": "code",
   "execution_count": 112,
   "id": "892cbade-0744-4f2d-801b-91097e046d1a",
   "metadata": {},
   "outputs": [
    {
     "name": "stdout",
     "output_type": "stream",
     "text": [
      "The first participant is John.\n"
     ]
    }
   ],
   "source": [
    "print ('The first participant is ' + Participants[0] + '.')"
   ]
  },
  {
   "cell_type": "code",
   "execution_count": 113,
   "id": "9df9df6b-f4af-4d4f-8925-1dea1482125e",
   "metadata": {},
   "outputs": [
    {
     "data": {
      "text/plain": [
       "7"
      ]
     },
     "execution_count": 113,
     "metadata": {},
     "output_type": "execute_result"
    }
   ],
   "source": [
    "len ('Dolphin')"
   ]
  },
  {
   "cell_type": "code",
   "execution_count": 114,
   "id": "33d63645-cc8c-46e5-9f6f-ec758428ca62",
   "metadata": {},
   "outputs": [],
   "source": [
    "#Next we are going to check out how to do slicing on the lists that can be extremely useful for huge lists."
   ]
  },
  {
   "cell_type": "code",
   "execution_count": 115,
   "id": "569c4218-3a7f-4e2f-9be9-522fb1657023",
   "metadata": {},
   "outputs": [
    {
     "data": {
      "text/plain": [
       "['John', 'Leila', 'Maria', 'Dwayne', 'George', 'Catherine']"
      ]
     },
     "execution_count": 115,
     "metadata": {},
     "output_type": "execute_result"
    }
   ],
   "source": [
    "Participants "
   ]
  },
  {
   "cell_type": "code",
   "execution_count": 116,
   "id": "3c0fc29b-dbc5-4fc1-87af-1bde0bbd1001",
   "metadata": {},
   "outputs": [
    {
     "data": {
      "text/plain": [
       "['Leila', 'Maria']"
      ]
     },
     "execution_count": 116,
     "metadata": {},
     "output_type": "execute_result"
    }
   ],
   "source": [
    "Participants[1:3] #Here we see how to slice the list. First number is where you want to start and the second is the end."
   ]
  },
  {
   "cell_type": "code",
   "execution_count": 117,
   "id": "65863b23-c68c-4f2f-98a2-62277c7e662f",
   "metadata": {},
   "outputs": [
    {
     "data": {
      "text/plain": [
       "['John', 'Leila']"
      ]
     },
     "execution_count": 117,
     "metadata": {},
     "output_type": "execute_result"
    }
   ],
   "source": [
    "Participants[:2]  #That means the second number is not included. Remember it starts from zero."
   ]
  },
  {
   "cell_type": "code",
   "execution_count": 118,
   "id": "98dfcee9-c8ff-4e88-8b9b-162b2ed4e65d",
   "metadata": {},
   "outputs": [
    {
     "data": {
      "text/plain": [
       "['George', 'Catherine']"
      ]
     },
     "execution_count": 118,
     "metadata": {},
     "output_type": "execute_result"
    }
   ],
   "source": [
    "Participants[4:] #If you do not include one of the numbers it will count as if you want the rest of the list, starting/ending with the other number."
   ]
  },
  {
   "cell_type": "code",
   "execution_count": 119,
   "id": "b60d2abc-8793-46a6-b44b-ebb91ea0ea43",
   "metadata": {},
   "outputs": [
    {
     "data": {
      "text/plain": [
       "['George', 'Catherine']"
      ]
     },
     "execution_count": 119,
     "metadata": {},
     "output_type": "execute_result"
    }
   ],
   "source": [
    "Participants[-2:] #We can also count backwards, starting with '-1'"
   ]
  },
  {
   "cell_type": "code",
   "execution_count": 120,
   "id": "fe7f3324-9ff1-4a2b-a0f6-8da6458465e6",
   "metadata": {},
   "outputs": [
    {
     "data": {
      "text/plain": [
       "['John', 'Leila', 'Maria', 'Dwayne', 'George', 'Catherine']"
      ]
     },
     "execution_count": 120,
     "metadata": {},
     "output_type": "execute_result"
    }
   ],
   "source": [
    "Participants"
   ]
  },
  {
   "cell_type": "code",
   "execution_count": 121,
   "id": "89b0d275-488d-4489-9bb5-059327c2a1f9",
   "metadata": {},
   "outputs": [],
   "source": [
    "Participants[1] = 'Peter'\n",
    "Participants[3] = 'Leila'\n",
    "Participants[-2] = 'Dwayne'"
   ]
  },
  {
   "cell_type": "code",
   "execution_count": 122,
   "id": "325889e1-8934-4b64-abc4-5776910de0b9",
   "metadata": {},
   "outputs": [
    {
     "data": {
      "text/plain": [
       "['John', 'Peter', 'Maria', 'Leila', 'Dwayne', 'Catherine']"
      ]
     },
     "execution_count": 122,
     "metadata": {},
     "output_type": "execute_result"
    }
   ],
   "source": [
    "Participants"
   ]
  },
  {
   "cell_type": "code",
   "execution_count": 123,
   "id": "e092992a-eb68-454d-8b92-14cf77227788",
   "metadata": {},
   "outputs": [
    {
     "data": {
      "text/plain": [
       "2"
      ]
     },
     "execution_count": 123,
     "metadata": {},
     "output_type": "execute_result"
    }
   ],
   "source": [
    "Participants.index('Maria') #Here are checking other methods to use when scrambling with lists."
   ]
  },
  {
   "cell_type": "code",
   "execution_count": 124,
   "id": "ffd6d0f9-0d73-44fe-aa56-f8b7cd55fe30",
   "metadata": {},
   "outputs": [
    {
     "data": {
      "text/plain": [
       "['Joshua', 'Brittany']"
      ]
     },
     "execution_count": 124,
     "metadata": {},
     "output_type": "execute_result"
    }
   ],
   "source": [
    "Newcomers = ['Joshua','Brittany'] #Here we created another list to show how to make another list containing two existing lists.\n",
    "Newcomers"
   ]
  },
  {
   "cell_type": "code",
   "execution_count": 125,
   "id": "7eaea111-db0b-4745-8485-feb20ec19450",
   "metadata": {},
   "outputs": [
    {
     "data": {
      "text/plain": [
       "[['John', 'Peter', 'Maria', 'Leila', 'Dwayne', 'Catherine'],\n",
       " ['Joshua', 'Brittany']]"
      ]
     },
     "execution_count": 125,
     "metadata": {},
     "output_type": "execute_result"
    }
   ],
   "source": [
    "Bigger_List = [Participants, Newcomers] #We simply set the name of the new list and include the ones we want in it.\n",
    "Bigger_List"
   ]
  },
  {
   "cell_type": "code",
   "execution_count": 126,
   "id": "6960c07a-915f-426f-8b52-61edd6a7e6d6",
   "metadata": {},
   "outputs": [
    {
     "data": {
      "text/plain": [
       "['Catherine', 'Dwayne', 'John', 'Leila', 'Maria', 'Peter']"
      ]
     },
     "execution_count": 126,
     "metadata": {},
     "output_type": "execute_result"
    }
   ],
   "source": [
    "Participants.sort() #Here we are using the method to sort the list.\n",
    "Participants"
   ]
  },
  {
   "cell_type": "code",
   "execution_count": 127,
   "id": "198cf524-5311-4bdb-9dc4-04ffb000b55e",
   "metadata": {},
   "outputs": [
    {
     "data": {
      "text/plain": [
       "['Peter', 'Maria', 'Leila', 'John', 'Dwayne', 'Catherine']"
      ]
     },
     "execution_count": 127,
     "metadata": {},
     "output_type": "execute_result"
    }
   ],
   "source": [
    "Participants.sort(reverse=True) #This is a clear example in how you can use the argument in the method to do what you want it to do.\n",
    "Participants"
   ]
  },
  {
   "cell_type": "code",
   "execution_count": 128,
   "id": "0e5c6795-d779-44fe-aec6-6b912694016d",
   "metadata": {},
   "outputs": [
    {
     "data": {
      "text/plain": [
       "[1, 1, 3, 3, 5, 7, 45, 65]"
      ]
     },
     "execution_count": 128,
     "metadata": {},
     "output_type": "execute_result"
    }
   ],
   "source": [
    "Numbers = [1,3,5,1,7,3,45,65] #And we can also use it for numbers, and it will sort even equal numbers.\n",
    "Numbers.sort()\n",
    "Numbers"
   ]
  },
  {
   "cell_type": "code",
   "execution_count": 129,
   "id": "2c0fc020-94eb-43f3-8dcd-5e1da783d284",
   "metadata": {},
   "outputs": [
    {
     "data": {
      "text/plain": [
       "[65, 45, 7, 5, 3, 3, 1, 1]"
      ]
     },
     "execution_count": 129,
     "metadata": {},
     "output_type": "execute_result"
    }
   ],
   "source": [
    "Numbers.sort(reverse=True)\n",
    "Numbers"
   ]
  },
  {
   "cell_type": "code",
   "execution_count": 130,
   "id": "e3908d9b-464c-4bad-9f21-3c0504c5d7b4",
   "metadata": {},
   "outputs": [],
   "source": [
    "#Now, let's talk about Tuples and how to work with them!"
   ]
  },
  {
   "cell_type": "code",
   "execution_count": 131,
   "id": "a02604d2-4458-4f8b-a7be-59cf3711ad19",
   "metadata": {},
   "outputs": [
    {
     "data": {
      "text/plain": [
       "(40, 41, 42)"
      ]
     },
     "execution_count": 131,
     "metadata": {},
     "output_type": "execute_result"
    }
   ],
   "source": [
    "x = (40,41,42)  #Here we see that we can assign a group of arguments to a variable and then call it.\n",
    "x"
   ]
  },
  {
   "cell_type": "code",
   "execution_count": 132,
   "id": "e89b394c-de4f-4110-8a86-d8a677b72292",
   "metadata": {},
   "outputs": [
    {
     "data": {
      "text/plain": [
       "(50, 51, 52)"
      ]
     },
     "execution_count": 132,
     "metadata": {},
     "output_type": "execute_result"
    }
   ],
   "source": [
    "y = (50,51,52) \n",
    "y"
   ]
  },
  {
   "cell_type": "code",
   "execution_count": 133,
   "id": "ac65b666-674d-4e95-9d60-63447f7999e5",
   "metadata": {},
   "outputs": [
    {
     "data": {
      "text/plain": [
       "6"
      ]
     },
     "execution_count": 133,
     "metadata": {},
     "output_type": "execute_result"
    }
   ],
   "source": [
    "a, b, c = 1, 4, 6  #We can also assign different variables to different arguments in the same line!\n",
    "c"
   ]
  },
  {
   "cell_type": "code",
   "execution_count": 134,
   "id": "3b09b427-2a17-4b4d-ba6d-7ba04c374eeb",
   "metadata": {},
   "outputs": [
    {
     "data": {
      "text/plain": [
       "40"
      ]
     },
     "execution_count": 134,
     "metadata": {},
     "output_type": "execute_result"
    }
   ],
   "source": [
    "x[0] #Remeber how we called names previously, when talking about lists? Here we did the same but for the variable x."
   ]
  },
  {
   "cell_type": "code",
   "execution_count": 135,
   "id": "d22b2007-b076-4006-93ea-708e58fb7de1",
   "metadata": {},
   "outputs": [
    {
     "data": {
      "text/plain": [
       "[(40, 41, 42), (50, 51, 52)]"
      ]
     },
     "execution_count": 135,
     "metadata": {},
     "output_type": "execute_result"
    }
   ],
   "source": [
    "List_1 = [x,y] #Here we created a list that incorporated both variables and their current group of arguments.\n",
    "List_1"
   ]
  },
  {
   "cell_type": "code",
   "execution_count": 136,
   "id": "2f678437-b16c-4bea-9e10-1951b6ef011a",
   "metadata": {},
   "outputs": [
    {
     "name": "stdout",
     "output_type": "stream",
     "text": [
      "30\n",
      "17\n"
     ]
    }
   ],
   "source": [
    "(age, years_of_school) = '30,17'.split(',') #In this line of commands we assigned the values to the varibles and asked it to split them up.\n",
    "print(age)\n",
    "print(years_of_school)"
   ]
  },
  {
   "cell_type": "code",
   "execution_count": 137,
   "id": "be0b63dc-56fe-43ee-a893-fdffe275b127",
   "metadata": {},
   "outputs": [
    {
     "name": "stdout",
     "output_type": "stream",
     "text": [
      "Area and Perimeter:\n"
     ]
    },
    {
     "data": {
      "text/plain": [
       "(9, 12)"
      ]
     },
     "execution_count": 137,
     "metadata": {},
     "output_type": "execute_result"
    }
   ],
   "source": [
    "def square_info(x): #Here we are defining a function that is going to calculate the area and perimeter of a square.\n",
    "    A = x ** 2      #We define what are the formulas for what we want, which are Area and Perimeter.\n",
    "    P = 4 * x\n",
    "    print('Area and Perimeter:') #Then we ask it to print a string to tell us what it is calculating and to point the results.\n",
    "    return A,P #And finally we ask it to return the results.\n",
    "\n",
    "square_info(3)"
   ]
  },
  {
   "cell_type": "code",
   "execution_count": 138,
   "id": "88128462-769a-4523-a2a5-07de499b26d2",
   "metadata": {},
   "outputs": [],
   "source": [
    "#Now let's a little bit on dictionaries and what we can do with them!"
   ]
  },
  {
   "cell_type": "code",
   "execution_count": 139,
   "id": "d75c9fc7-7ec7-4849-b767-d1d4a70a9df9",
   "metadata": {},
   "outputs": [
    {
     "data": {
      "text/plain": [
       "{'k1': 'cat', 'k2': 'dog', 'k3': 'mouse', 'k4': 'fish'}"
      ]
     },
     "execution_count": 139,
     "metadata": {},
     "output_type": "execute_result"
    }
   ],
   "source": [
    "dict = {'k1': 'cat','k2': 'dog','k3': 'mouse', 'k4': 'fish'} #First we are seeing how we can create a dictionary.\n",
    "dict"
   ]
  },
  {
   "cell_type": "code",
   "execution_count": 140,
   "id": "968493b9-2936-445f-9d28-014ccae42b23",
   "metadata": {},
   "outputs": [
    {
     "data": {
      "text/plain": [
       "'cat'"
      ]
     },
     "execution_count": 140,
     "metadata": {},
     "output_type": "execute_result"
    }
   ],
   "source": [
    "dict['k1'] #We can call any argument from the dictionary."
   ]
  },
  {
   "cell_type": "code",
   "execution_count": 141,
   "id": "f091261c-9ada-4fe4-af12-4ec760205a9c",
   "metadata": {},
   "outputs": [
    {
     "data": {
      "text/plain": [
       "'dog'"
      ]
     },
     "execution_count": 141,
     "metadata": {},
     "output_type": "execute_result"
    }
   ],
   "source": [
    "dict['k2']"
   ]
  },
  {
   "cell_type": "code",
   "execution_count": 142,
   "id": "4ee63e4a-116b-4674-92df-a885d60cab0b",
   "metadata": {},
   "outputs": [
    {
     "data": {
      "text/plain": [
       "'mouse'"
      ]
     },
     "execution_count": 142,
     "metadata": {},
     "output_type": "execute_result"
    }
   ],
   "source": [
    "dict['k3']"
   ]
  },
  {
   "cell_type": "code",
   "execution_count": 143,
   "id": "b904726c-61a6-42c7-91d1-0191091ca9c8",
   "metadata": {},
   "outputs": [
    {
     "data": {
      "text/plain": [
       "{'k1': 'cat', 'k2': 'dog', 'k3': 'mouse', 'k4': 'fish', 'k5': 'parrot'}"
      ]
     },
     "execution_count": 143,
     "metadata": {},
     "output_type": "execute_result"
    }
   ],
   "source": [
    "dict['k5'] = 'parrot' #In a somple line we can add a new element to the dictionary.\n",
    "dict"
   ]
  },
  {
   "cell_type": "code",
   "execution_count": 144,
   "id": "b613df3e-896e-4e6e-ab0a-f95bcadaa3c6",
   "metadata": {},
   "outputs": [
    {
     "data": {
      "text/plain": [
       "{'k1': 'cat', 'k2': 'squirrel', 'k3': 'mouse', 'k4': 'fish', 'k5': 'parrot'}"
      ]
     },
     "execution_count": 144,
     "metadata": {},
     "output_type": "execute_result"
    }
   ],
   "source": [
    "dict['k2'] = 'squirrel' #And we can trade values as well.\n",
    "dict"
   ]
  },
  {
   "cell_type": "code",
   "execution_count": 145,
   "id": "908fe1b5-aef2-47c6-bf74-1ca1ad87521f",
   "metadata": {},
   "outputs": [],
   "source": [
    "dep_workers = {'dep_1': 'Peter', 'dep_2': ['Jennifer', 'Michael', 'Tommy']} #We can also assing a whole group of arguments to a single value."
   ]
  },
  {
   "cell_type": "code",
   "execution_count": 146,
   "id": "2249c179-8fc7-4c4d-9463-2ddff6b78b1f",
   "metadata": {},
   "outputs": [
    {
     "data": {
      "text/plain": [
       "['Jennifer', 'Michael', 'Tommy']"
      ]
     },
     "execution_count": 146,
     "metadata": {},
     "output_type": "execute_result"
    }
   ],
   "source": [
    "dep_workers['dep_2']"
   ]
  },
  {
   "cell_type": "code",
   "execution_count": 147,
   "id": "2795b923-e6cc-43a0-9af0-4f3304a2228e",
   "metadata": {},
   "outputs": [],
   "source": [
    "Team = {}  #When we are using brackets to assign to a variable we are assigning it as a dictionary.\n",
    "Team['Point Guard'] = 'Dirk' #And then, we can assign the values we want to that dictionary this way. to make it easier to identify.\n",
    "Team['Shooting Guard'] = 'Al'\n",
    "Team['Small Forward'] = 'Sean'\n",
    "Team['Power Forward'] = 'Alexander'\n",
    "Team['Center'] = 'Hector'"
   ]
  },
  {
   "cell_type": "code",
   "execution_count": 148,
   "id": "8d6b818b-81f3-4217-93c6-309b0858b4bf",
   "metadata": {},
   "outputs": [
    {
     "name": "stdout",
     "output_type": "stream",
     "text": [
      "{'Point Guard': 'Dirk', 'Shooting Guard': 'Al', 'Small Forward': 'Sean', 'Power Forward': 'Alexander', 'Center': 'Hector'}\n"
     ]
    }
   ],
   "source": [
    "print(Team)"
   ]
  },
  {
   "cell_type": "code",
   "execution_count": 149,
   "id": "fa105640-3f42-4ea1-a81d-38a0a375a64a",
   "metadata": {},
   "outputs": [
    {
     "name": "stdout",
     "output_type": "stream",
     "text": [
      "Hector\n"
     ]
    }
   ],
   "source": [
    "print(Team['Center']) #And this is how we are goint to call the list assigned as a dictionary."
   ]
  },
  {
   "cell_type": "code",
   "execution_count": 150,
   "id": "05445128-bd37-420a-a17a-0498c1dff1f7",
   "metadata": {},
   "outputs": [
    {
     "name": "stdout",
     "output_type": "stream",
     "text": [
      "Sean\n"
     ]
    }
   ],
   "source": [
    "print(Team.get('Small Forward')) #The \".get\" method is really good for finding values in a dictionary."
   ]
  },
  {
   "cell_type": "code",
   "execution_count": 151,
   "id": "3b8f0738-7573-46e3-9fdb-871022959704",
   "metadata": {},
   "outputs": [
    {
     "name": "stdout",
     "output_type": "stream",
     "text": [
      "None\n"
     ]
    }
   ],
   "source": [
    "print(Team.get('Coach')) #And it even tells us if that name/value is contained in the dictionary"
   ]
  },
  {
   "cell_type": "code",
   "execution_count": 152,
   "id": "3f780592-e3ce-447f-b347-820ba574e955",
   "metadata": {},
   "outputs": [],
   "source": [
    "#Now we are going to talk about for, while and conditional states Loops."
   ]
  },
  {
   "cell_type": "code",
   "execution_count": 153,
   "id": "802abdde-e488-48c8-a788-1b27ea93d79a",
   "metadata": {},
   "outputs": [],
   "source": [
    "even = [0,2,4,6,8,10,12,14,16,18,20]"
   ]
  },
  {
   "cell_type": "code",
   "execution_count": 154,
   "id": "91579aaa-e691-4ba7-87ed-9ee344efb17c",
   "metadata": {},
   "outputs": [
    {
     "name": "stdout",
     "output_type": "stream",
     "text": [
      "0 2 4 6 8 10 12 14 16 18 20 "
     ]
    }
   ],
   "source": [
    "for n in even:\n",
    "    print (n, end = \" \")"
   ]
  },
  {
   "cell_type": "code",
   "execution_count": 155,
   "id": "3e17ccd3-405d-4b93-a48a-b79018b1ee58",
   "metadata": {},
   "outputs": [
    {
     "name": "stdout",
     "output_type": "stream",
     "text": [
      "0 2 4 6 8 10 12 14 16 18 20 "
     ]
    }
   ],
   "source": [
    "x = 0   #When we're dealing with loops we need to be careful not to make the problem crash with infinite loops.\n",
    "while x <= 20:  #While loops keep running while the argument is true.\n",
    "    print (x, end = \" \") #Here we put inside the parentheses a command, after the comma, to make the program print horizontally instead of vertically.\n",
    "    x = x + 2"
   ]
  },
  {
   "cell_type": "code",
   "execution_count": 156,
   "id": "59517ff6-15c7-482d-86cf-83d2fbbb6ff4",
   "metadata": {},
   "outputs": [
    {
     "name": "stdout",
     "output_type": "stream",
     "text": [
      "0 2 4 6 8 10 12 14 16 18 20 "
     ]
    }
   ],
   "source": [
    "x = 0\n",
    "while x <= 20:\n",
    "    print(x, end = \" \")\n",
    "    x += 2  #Here we changed the line to something more concise. It runs the same way. Remember that the '=' sign means 'assign to' not 'equal to'."
   ]
  },
  {
   "cell_type": "code",
   "execution_count": 157,
   "id": "42a68c29-242e-4ca6-9359-6105b55854af",
   "metadata": {},
   "outputs": [],
   "source": [
    "#Now we are going to see how to creat a list using the range() function"
   ]
  },
  {
   "cell_type": "code",
   "execution_count": 158,
   "id": "5c235acf-2c18-414b-8f10-b42a58cec7df",
   "metadata": {},
   "outputs": [
    {
     "data": {
      "text/plain": [
       "range(0, 10)"
      ]
     },
     "execution_count": 158,
     "metadata": {},
     "output_type": "execute_result"
    }
   ],
   "source": [
    "range(10) #Here we are just creating the range."
   ]
  },
  {
   "cell_type": "code",
   "execution_count": 159,
   "id": "f608f152-a0d8-4a77-bcb7-73c9148312c5",
   "metadata": {},
   "outputs": [
    {
     "data": {
      "text/plain": [
       "[0, 1, 2, 3, 4, 5, 6, 7, 8, 9]"
      ]
     },
     "execution_count": 159,
     "metadata": {},
     "output_type": "execute_result"
    }
   ],
   "source": [
    "list(range(10)) #Here we list the range. Remember it starts from 0 and stops before the number in the argument."
   ]
  },
  {
   "cell_type": "code",
   "execution_count": 160,
   "id": "37731b5e-4f2b-4de8-a1ed-009cba150830",
   "metadata": {},
   "outputs": [
    {
     "data": {
      "text/plain": [
       "range(3, 7)"
      ]
     },
     "execution_count": 160,
     "metadata": {},
     "output_type": "execute_result"
    }
   ],
   "source": [
    "range(3,7)"
   ]
  },
  {
   "cell_type": "code",
   "execution_count": 161,
   "id": "11136366-e0d8-440c-a698-4b273f9f16c3",
   "metadata": {},
   "outputs": [
    {
     "data": {
      "text/plain": [
       "[3, 4, 5, 6]"
      ]
     },
     "execution_count": 161,
     "metadata": {},
     "output_type": "execute_result"
    }
   ],
   "source": [
    "list(range(3,7))"
   ]
  },
  {
   "cell_type": "code",
   "execution_count": 162,
   "id": "fcce5934-07cf-4532-abca-ef02efa566d7",
   "metadata": {},
   "outputs": [
    {
     "data": {
      "text/plain": [
       "range(1, 20, 2)"
      ]
     },
     "execution_count": 162,
     "metadata": {},
     "output_type": "execute_result"
    }
   ],
   "source": [
    "range(1,20,2) #Here's how it goes: 'range(start, stop, step)'."
   ]
  },
  {
   "cell_type": "code",
   "execution_count": 163,
   "id": "0a82585e-d9ac-46d8-ae41-13eaa404583c",
   "metadata": {},
   "outputs": [
    {
     "data": {
      "text/plain": [
       "[1, 3, 5, 7, 9, 11, 13, 15, 17, 19]"
      ]
     },
     "execution_count": 163,
     "metadata": {},
     "output_type": "execute_result"
    }
   ],
   "source": [
    "list(range(1,20,2)) #Which means we're going to start at 1 and end at 20, but we're going to go two by two."
   ]
  },
  {
   "cell_type": "code",
   "execution_count": 164,
   "id": "d71b5012-6e0b-496e-87a9-91a991281dde",
   "metadata": {},
   "outputs": [],
   "source": [
    "#Now we're going to see the use of Conditional statements and loops, and how they interact."
   ]
  },
  {
   "cell_type": "code",
   "execution_count": 165,
   "id": "5a028a79-954d-43bb-a4ed-e8e3bd4424c1",
   "metadata": {},
   "outputs": [
    {
     "name": "stdout",
     "output_type": "stream",
     "text": [
      "1 2 4 8 16 32 64 128 256 512 "
     ]
    }
   ],
   "source": [
    "for n in range(10): #Here we are seeing a loop that makes n grow until the number 9.\n",
    "    print (2 ** n, end = \" \") #And then we ask it to print the values."
   ]
  },
  {
   "cell_type": "code",
   "execution_count": 166,
   "id": "be198d9e-979e-454a-9690-15160f4b6a09",
   "metadata": {},
   "outputs": [
    {
     "name": "stdout",
     "output_type": "stream",
     "text": [
      "0 Odd 2 Odd 4 Odd 6 Odd 8 Odd 10 Odd 12 Odd 14 Odd 16 Odd 18 Odd "
     ]
    }
   ],
   "source": [
    "for x in range(20): #Here we have a similar case but we are counting until 20.\n",
    "    if x % 2 == 0: #This % symbol means: 'If x leaves a remainder of 0 when divided by 2'; which means that same as: 'If x is even'.\n",
    "        print (x, end = \" \") #However we ahve an if else statement. Where we ask it to print the word 'Odd' instead of the odd numbers.\n",
    "    else:\n",
    "        print (\"Odd\", end = \" \")"
   ]
  },
  {
   "cell_type": "code",
   "execution_count": 167,
   "id": "763ddcfe-64ac-4e6c-8d05-d113ea8a6414",
   "metadata": {},
   "outputs": [],
   "source": [
    "x = [0,1,2]"
   ]
  },
  {
   "cell_type": "code",
   "execution_count": 168,
   "id": "d98a7934-1b94-437c-8999-0539eda9df0d",
   "metadata": {},
   "outputs": [
    {
     "name": "stdout",
     "output_type": "stream",
     "text": [
      "0 1 2 "
     ]
    }
   ],
   "source": [
    "for item in x: #Here we are just using a loop to ask to print the items in the group we created.\n",
    "    print (item, end = \" \")"
   ]
  },
  {
   "cell_type": "code",
   "execution_count": 169,
   "id": "49bb1775-8211-404d-8778-4e78bfdf0ab1",
   "metadata": {},
   "outputs": [
    {
     "name": "stdout",
     "output_type": "stream",
     "text": [
      "0 1 2 "
     ]
    }
   ],
   "source": [
    "for item in range(len(x)): #And here we see another way to do it, but a little more complicated, that can be useful in advanced coding.\n",
    "    print (x[item], end = \" \") #The variable 'item' will loop through a new list created by 'range', and that has as many elements as x itself."
   ]
  },
  {
   "cell_type": "code",
   "execution_count": 170,
   "id": "b435ff46-c549-4812-9f84-0832f2a0e969",
   "metadata": {},
   "outputs": [],
   "source": [
    "def count(numbers): #Here we are defining a function that will count how many numbers are under 20 in a list.\n",
    "    total = 0     #First we need to make it start from 0\n",
    "    for x in numbers: #Then we make it add one everytime it finds a number that is under 20. And forget, identation is important!!\n",
    "        if x < 20:\n",
    "            total += 1\n",
    "    return total"
   ]
  },
  {
   "cell_type": "code",
   "execution_count": 171,
   "id": "51bdfa6e-06d5-47f0-a932-4c8b7d0add59",
   "metadata": {},
   "outputs": [],
   "source": [
    "list_1 = [1,3,7,15,23,43,56,98]"
   ]
  },
  {
   "cell_type": "code",
   "execution_count": 172,
   "id": "4415a558-8609-4aac-9d1a-a380faf40158",
   "metadata": {},
   "outputs": [
    {
     "data": {
      "text/plain": [
       "4"
      ]
     },
     "execution_count": 172,
     "metadata": {},
     "output_type": "execute_result"
    }
   ],
   "source": [
    "count(list_1)"
   ]
  },
  {
   "cell_type": "code",
   "execution_count": 173,
   "id": "329420ff-51fa-4491-a3bd-02c1b1a4bf32",
   "metadata": {},
   "outputs": [],
   "source": [
    "#Now we are going to talk a little bit about Iterating over Dictionaries."
   ]
  },
  {
   "cell_type": "code",
   "execution_count": 174,
   "id": "99f80400-c59b-412b-82fd-189767d3a991",
   "metadata": {},
   "outputs": [
    {
     "name": "stdout",
     "output_type": "stream",
     "text": [
      "74\n"
     ]
    }
   ],
   "source": [
    "prices = {    #Here we learn how to create two dictionaries and how we can make calculations calling both in the same function.\n",
    "    'box_of_spaghetti' : 4,\n",
    "    'lasagna': 5,\n",
    "    'hamburger': 2\n",
    "}\n",
    "quantity = {\n",
    "    'box_of_spaghetti' : 6,\n",
    "    'lasagna': 10,\n",
    "    'hamburger': 0\n",
    "}\n",
    "money_spent = 0\n",
    "\n",
    "for x in prices:\n",
    "    money_spent = money_spent + (prices[x] * quantity[x])\n",
    "\n",
    "print (money_spent)"
   ]
  },
  {
   "cell_type": "code",
   "execution_count": 175,
   "id": "00a25cb8-022b-42e5-9cdf-3ffb903d287b",
   "metadata": {},
   "outputs": [],
   "source": [
    "#Now and lastly, we will learn how to import modules/packages in Python."
   ]
  },
  {
   "cell_type": "code",
   "execution_count": 176,
   "id": "76def594-c954-4a89-9082-b68940cdfbd1",
   "metadata": {},
   "outputs": [],
   "source": [
    "import math #Here we end up importing the whole module 'math' and all its methods and functions>"
   ]
  },
  {
   "cell_type": "code",
   "execution_count": 177,
   "id": "f05d642e-7985-497e-83b9-b8658b96e25b",
   "metadata": {},
   "outputs": [
    {
     "data": {
      "text/plain": [
       "4.0"
      ]
     },
     "execution_count": 177,
     "metadata": {},
     "output_type": "execute_result"
    }
   ],
   "source": [
    "math.sqrt(16)"
   ]
  },
  {
   "cell_type": "code",
   "execution_count": 178,
   "id": "10fd68bd-8ecf-4ea3-b856-b37ab6b6a61a",
   "metadata": {},
   "outputs": [],
   "source": [
    "from math import sqrt #Here we see how we can import just the method or function we desire."
   ]
  },
  {
   "cell_type": "code",
   "execution_count": 179,
   "id": "f855b286-ac03-4dbd-8607-5b64a4384b8a",
   "metadata": {},
   "outputs": [
    {
     "data": {
      "text/plain": [
       "5.0"
      ]
     },
     "execution_count": 179,
     "metadata": {},
     "output_type": "execute_result"
    }
   ],
   "source": [
    "sqrt(25)"
   ]
  },
  {
   "cell_type": "code",
   "execution_count": 180,
   "id": "2162becb-ee35-45d8-907a-5f94870fc974",
   "metadata": {},
   "outputs": [],
   "source": [
    "from math import sqrt as s #We can also change the same of the function to make it quicker to write."
   ]
  },
  {
   "cell_type": "code",
   "execution_count": 181,
   "id": "a08e13c1-d935-41db-9694-7dd5dfe604c9",
   "metadata": {},
   "outputs": [
    {
     "data": {
      "text/plain": [
       "6.0"
      ]
     },
     "execution_count": 181,
     "metadata": {},
     "output_type": "execute_result"
    }
   ],
   "source": [
    "s(36)"
   ]
  },
  {
   "cell_type": "code",
   "execution_count": 182,
   "id": "3ef26c21-f422-45a4-9632-c294497048b3",
   "metadata": {},
   "outputs": [],
   "source": [
    "import math as m #And we can do the same thing with the modules."
   ]
  },
  {
   "cell_type": "code",
   "execution_count": 183,
   "id": "dcad7a65-088d-4fd2-ba16-a3ad6e12bdcd",
   "metadata": {},
   "outputs": [
    {
     "data": {
      "text/plain": [
       "7.0"
      ]
     },
     "execution_count": 183,
     "metadata": {},
     "output_type": "execute_result"
    }
   ],
   "source": [
    "m.sqrt(49)"
   ]
  },
  {
   "cell_type": "code",
   "execution_count": 184,
   "id": "acd0902b-f160-4544-abf0-e2e58700972a",
   "metadata": {},
   "outputs": [],
   "source": [
    "from math import * #Developers don't use this one as much, but you can use the '*' to import the whole package as well."
   ]
  },
  {
   "cell_type": "code",
   "execution_count": 185,
   "id": "71a3bf35-108c-4bd2-a3d4-4de2998796a7",
   "metadata": {},
   "outputs": [
    {
     "data": {
      "text/plain": [
       "8.0"
      ]
     },
     "execution_count": 185,
     "metadata": {},
     "output_type": "execute_result"
    }
   ],
   "source": [
    "sqrt(64)"
   ]
  },
  {
   "cell_type": "code",
   "execution_count": 374,
   "id": "d21a9511-b745-4681-8a8d-82fd66596e5f",
   "metadata": {},
   "outputs": [
    {
     "name": "stdout",
     "output_type": "stream",
     "text": [
      "Help on built-in module math:\n",
      "\n",
      "NAME\n",
      "    math\n",
      "\n",
      "DESCRIPTION\n",
      "    This module provides access to the mathematical functions\n",
      "    defined by the C standard.\n",
      "\n",
      "FUNCTIONS\n",
      "    acos(x, /)\n",
      "        Return the arc cosine (measured in radians) of x.\n",
      "\n",
      "        The result is between 0 and pi.\n",
      "\n",
      "    acosh(x, /)\n",
      "        Return the inverse hyperbolic cosine of x.\n",
      "\n",
      "    asin(x, /)\n",
      "        Return the arc sine (measured in radians) of x.\n",
      "\n",
      "        The result is between -pi/2 and pi/2.\n",
      "\n",
      "    asinh(x, /)\n",
      "        Return the inverse hyperbolic sine of x.\n",
      "\n",
      "    atan(x, /)\n",
      "        Return the arc tangent (measured in radians) of x.\n",
      "\n",
      "        The result is between -pi/2 and pi/2.\n",
      "\n",
      "    atan2(y, x, /)\n",
      "        Return the arc tangent (measured in radians) of y/x.\n",
      "\n",
      "        Unlike atan(y/x), the signs of both x and y are considered.\n",
      "\n",
      "    atanh(x, /)\n",
      "        Return the inverse hyperbolic tangent of x.\n",
      "\n",
      "    cbrt(x, /)\n",
      "        Return the cube root of x.\n",
      "\n",
      "    ceil(x, /)\n",
      "        Return the ceiling of x as an Integral.\n",
      "\n",
      "        This is the smallest integer >= x.\n",
      "\n",
      "    comb(n, k, /)\n",
      "        Number of ways to choose k items from n items without repetition and without order.\n",
      "\n",
      "        Evaluates to n! / (k! * (n - k)!) when k <= n and evaluates\n",
      "        to zero when k > n.\n",
      "\n",
      "        Also called the binomial coefficient because it is equivalent\n",
      "        to the coefficient of k-th term in polynomial expansion of the\n",
      "        expression (1 + x)**n.\n",
      "\n",
      "        Raises TypeError if either of the arguments are not integers.\n",
      "        Raises ValueError if either of the arguments are negative.\n",
      "\n",
      "    copysign(x, y, /)\n",
      "        Return a float with the magnitude (absolute value) of x but the sign of y.\n",
      "\n",
      "        On platforms that support signed zeros, copysign(1.0, -0.0)\n",
      "        returns -1.0.\n",
      "\n",
      "    cos(x, /)\n",
      "        Return the cosine of x (measured in radians).\n",
      "\n",
      "    cosh(x, /)\n",
      "        Return the hyperbolic cosine of x.\n",
      "\n",
      "    degrees(x, /)\n",
      "        Convert angle x from radians to degrees.\n",
      "\n",
      "    dist(p, q, /)\n",
      "        Return the Euclidean distance between two points p and q.\n",
      "\n",
      "        The points should be specified as sequences (or iterables) of\n",
      "        coordinates.  Both inputs must have the same dimension.\n",
      "\n",
      "        Roughly equivalent to:\n",
      "            sqrt(sum((px - qx) ** 2.0 for px, qx in zip(p, q)))\n",
      "\n",
      "    erf(x, /)\n",
      "        Error function at x.\n",
      "\n",
      "    erfc(x, /)\n",
      "        Complementary error function at x.\n",
      "\n",
      "    exp(x, /)\n",
      "        Return e raised to the power of x.\n",
      "\n",
      "    exp2(x, /)\n",
      "        Return 2 raised to the power of x.\n",
      "\n",
      "    expm1(x, /)\n",
      "        Return exp(x)-1.\n",
      "\n",
      "        This function avoids the loss of precision involved in the direct evaluation of exp(x)-1 for small x.\n",
      "\n",
      "    fabs(x, /)\n",
      "        Return the absolute value of the float x.\n",
      "\n",
      "    factorial(n, /)\n",
      "        Find n!.\n",
      "\n",
      "        Raise a ValueError if x is negative or non-integral.\n",
      "\n",
      "    floor(x, /)\n",
      "        Return the floor of x as an Integral.\n",
      "\n",
      "        This is the largest integer <= x.\n",
      "\n",
      "    fmod(x, y, /)\n",
      "        Return fmod(x, y), according to platform C.\n",
      "\n",
      "        x % y may differ.\n",
      "\n",
      "    frexp(x, /)\n",
      "        Return the mantissa and exponent of x, as pair (m, e).\n",
      "\n",
      "        m is a float and e is an int, such that x = m * 2.**e.\n",
      "        If x is 0, m and e are both 0.  Else 0.5 <= abs(m) < 1.0.\n",
      "\n",
      "    fsum(seq, /)\n",
      "        Return an accurate floating-point sum of values in the iterable seq.\n",
      "\n",
      "        Assumes IEEE-754 floating-point arithmetic.\n",
      "\n",
      "    gamma(x, /)\n",
      "        Gamma function at x.\n",
      "\n",
      "    gcd(*integers)\n",
      "        Greatest Common Divisor.\n",
      "\n",
      "    hypot(...)\n",
      "        hypot(*coordinates) -> value\n",
      "\n",
      "        Multidimensional Euclidean distance from the origin to a point.\n",
      "\n",
      "        Roughly equivalent to:\n",
      "            sqrt(sum(x**2 for x in coordinates))\n",
      "\n",
      "        For a two dimensional point (x, y), gives the hypotenuse\n",
      "        using the Pythagorean theorem:  sqrt(x*x + y*y).\n",
      "\n",
      "        For example, the hypotenuse of a 3/4/5 right triangle is:\n",
      "\n",
      "            >>> hypot(3.0, 4.0)\n",
      "            5.0\n",
      "\n",
      "    isclose(a, b, *, rel_tol=1e-09, abs_tol=0.0)\n",
      "        Determine whether two floating-point numbers are close in value.\n",
      "\n",
      "          rel_tol\n",
      "            maximum difference for being considered \"close\", relative to the\n",
      "            magnitude of the input values\n",
      "          abs_tol\n",
      "            maximum difference for being considered \"close\", regardless of the\n",
      "            magnitude of the input values\n",
      "\n",
      "        Return True if a is close in value to b, and False otherwise.\n",
      "\n",
      "        For the values to be considered close, the difference between them\n",
      "        must be smaller than at least one of the tolerances.\n",
      "\n",
      "        -inf, inf and NaN behave similarly to the IEEE 754 Standard.  That\n",
      "        is, NaN is not close to anything, even itself.  inf and -inf are\n",
      "        only close to themselves.\n",
      "\n",
      "    isfinite(x, /)\n",
      "        Return True if x is neither an infinity nor a NaN, and False otherwise.\n",
      "\n",
      "    isinf(x, /)\n",
      "        Return True if x is a positive or negative infinity, and False otherwise.\n",
      "\n",
      "    isnan(x, /)\n",
      "        Return True if x is a NaN (not a number), and False otherwise.\n",
      "\n",
      "    isqrt(n, /)\n",
      "        Return the integer part of the square root of the input.\n",
      "\n",
      "    lcm(*integers)\n",
      "        Least Common Multiple.\n",
      "\n",
      "    ldexp(x, i, /)\n",
      "        Return x * (2**i).\n",
      "\n",
      "        This is essentially the inverse of frexp().\n",
      "\n",
      "    lgamma(x, /)\n",
      "        Natural logarithm of absolute value of Gamma function at x.\n",
      "\n",
      "    log(...)\n",
      "        log(x, [base=math.e])\n",
      "        Return the logarithm of x to the given base.\n",
      "\n",
      "        If the base is not specified, returns the natural logarithm (base e) of x.\n",
      "\n",
      "    log10(x, /)\n",
      "        Return the base 10 logarithm of x.\n",
      "\n",
      "    log1p(x, /)\n",
      "        Return the natural logarithm of 1+x (base e).\n",
      "\n",
      "        The result is computed in a way which is accurate for x near zero.\n",
      "\n",
      "    log2(x, /)\n",
      "        Return the base 2 logarithm of x.\n",
      "\n",
      "    modf(x, /)\n",
      "        Return the fractional and integer parts of x.\n",
      "\n",
      "        Both results carry the sign of x and are floats.\n",
      "\n",
      "    nextafter(x, y, /, *, steps=None)\n",
      "        Return the floating-point value the given number of steps after x towards y.\n",
      "\n",
      "        If steps is not specified or is None, it defaults to 1.\n",
      "\n",
      "        Raises a TypeError, if x or y is not a double, or if steps is not an integer.\n",
      "        Raises ValueError if steps is negative.\n",
      "\n",
      "    perm(n, k=None, /)\n",
      "        Number of ways to choose k items from n items without repetition and with order.\n",
      "\n",
      "        Evaluates to n! / (n - k)! when k <= n and evaluates\n",
      "        to zero when k > n.\n",
      "\n",
      "        If k is not specified or is None, then k defaults to n\n",
      "        and the function returns n!.\n",
      "\n",
      "        Raises TypeError if either of the arguments are not integers.\n",
      "        Raises ValueError if either of the arguments are negative.\n",
      "\n",
      "    pow(x, y, /)\n",
      "        Return x**y (x to the power of y).\n",
      "\n",
      "    prod(iterable, /, *, start=1)\n",
      "        Calculate the product of all the elements in the input iterable.\n",
      "\n",
      "        The default start value for the product is 1.\n",
      "\n",
      "        When the iterable is empty, return the start value.  This function is\n",
      "        intended specifically for use with numeric values and may reject\n",
      "        non-numeric types.\n",
      "\n",
      "    radians(x, /)\n",
      "        Convert angle x from degrees to radians.\n",
      "\n",
      "    remainder(x, y, /)\n",
      "        Difference between x and the closest integer multiple of y.\n",
      "\n",
      "        Return x - n*y where n*y is the closest integer multiple of y.\n",
      "        In the case where x is exactly halfway between two multiples of\n",
      "        y, the nearest even value of n is used. The result is always exact.\n",
      "\n",
      "    sin(x, /)\n",
      "        Return the sine of x (measured in radians).\n",
      "\n",
      "    sinh(x, /)\n",
      "        Return the hyperbolic sine of x.\n",
      "\n",
      "    sqrt(x, /)\n",
      "        Return the square root of x.\n",
      "\n",
      "    sumprod(p, q, /)\n",
      "        Return the sum of products of values from two iterables p and q.\n",
      "\n",
      "        Roughly equivalent to:\n",
      "\n",
      "            sum(itertools.starmap(operator.mul, zip(p, q, strict=True)))\n",
      "\n",
      "        For float and mixed int/float inputs, the intermediate products\n",
      "        and sums are computed with extended precision.\n",
      "\n",
      "    tan(x, /)\n",
      "        Return the tangent of x (measured in radians).\n",
      "\n",
      "    tanh(x, /)\n",
      "        Return the hyperbolic tangent of x.\n",
      "\n",
      "    trunc(x, /)\n",
      "        Truncates the Real x to the nearest Integral toward 0.\n",
      "\n",
      "        Uses the __trunc__ magic method.\n",
      "\n",
      "    ulp(x, /)\n",
      "        Return the value of the least significant bit of the float x.\n",
      "\n",
      "DATA\n",
      "    e = 2.718281828459045\n",
      "    inf = inf\n",
      "    nan = nan\n",
      "    pi = 3.141592653589793\n",
      "    tau = 6.283185307179586\n",
      "\n",
      "FILE\n",
      "    (built-in)\n",
      "\n",
      "\n"
     ]
    }
   ],
   "source": [
    "help(math) #And finally if you ever need any help with any module/package or function."
   ]
  },
  {
   "cell_type": "code",
   "execution_count": null,
   "id": "e9088314-d7eb-4782-a5fc-7a3df76d3cfb",
   "metadata": {},
   "outputs": [],
   "source": []
  }
 ],
 "metadata": {
  "kernelspec": {
   "display_name": "Python [conda env:base] *",
   "language": "python",
   "name": "conda-base-py"
  },
  "language_info": {
   "codemirror_mode": {
    "name": "ipython",
    "version": 3
   },
   "file_extension": ".py",
   "mimetype": "text/x-python",
   "name": "python",
   "nbconvert_exporter": "python",
   "pygments_lexer": "ipython3",
   "version": "3.12.7"
  }
 },
 "nbformat": 4,
 "nbformat_minor": 5
}
