{
 "cells": [
  {
   "cell_type": "code",
   "execution_count": 2,
   "id": "1ddb7a34-f28f-4a8c-af1e-ce0e0cf51805",
   "metadata": {},
   "outputs": [
    {
     "name": "stdout",
     "output_type": "stream",
     "text": [
      "Original Array: [1, 2, 3, 4, 5]\n",
      "Rotated Array: [3, 4, 5, 1, 2]\n"
     ]
    }
   ],
   "source": [
    "def rotate_array(arr, d):\n",
    "    n = len(arr)\n",
    "\n",
    "    # Check if 'd' is valid, it should be withing the range of array lens\n",
    "    if d <0 or d >= n:\n",
    "        return \"Invalid rotation value\"\n",
    "\n",
    "    # Create a new array to store the rotated elements.\n",
    "    rotated_arr = [0] * n\n",
    "\n",
    "    # Perform the rotarion.\n",
    "    for i in range(n):\n",
    "        rotated_arr[i] = arr[(i + d) % n]\n",
    "\n",
    "    return rotated_arr\n",
    "\n",
    "# Input array\n",
    "arr = [1, 2, 3, 4, 5]\n",
    "\n",
    "# Number of positions to rotate\n",
    "d = 2\n",
    "\n",
    "# Call the rotate_array function\n",
    "result = rotate_array(arr, d)\n",
    "\n",
    "# Print the rotated array\n",
    "print(\"Original Array:\", arr)\n",
    "print(\"Rotated Array:\", result)"
   ]
  },
  {
   "cell_type": "code",
   "execution_count": null,
   "id": "4d311aca-0c27-4640-8bca-259e540092f1",
   "metadata": {},
   "outputs": [],
   "source": []
  }
 ],
 "metadata": {
  "kernelspec": {
   "display_name": "Python [conda env:base] *",
   "language": "python",
   "name": "conda-base-py"
  },
  "language_info": {
   "codemirror_mode": {
    "name": "ipython",
    "version": 3
   },
   "file_extension": ".py",
   "mimetype": "text/x-python",
   "name": "python",
   "nbconvert_exporter": "python",
   "pygments_lexer": "ipython3",
   "version": "3.12.7"
  }
 },
 "nbformat": 4,
 "nbformat_minor": 5
}
