{
 "cells": [
  {
   "cell_type": "markdown",
   "id": "98c9216d-ee16-488a-b75f-9045a61e3169",
   "metadata": {},
   "source": [
    "# Body Mass Index (BMI)"
   ]
  },
  {
   "cell_type": "markdown",
   "id": "5dece3f9-0ef0-4e7f-a86a-caa3b077519b",
   "metadata": {},
   "source": [
    "Is a measure of body fat based on an individual's weight and height. It is commonly used as a screening tool to categorize individuals into different weight status categories, such as underweight, normal weight, overweight and obesity."
   ]
  },
  {
   "cell_type": "markdown",
   "id": "33035a5b-5da8-4631-b252-0366225b7b9b",
   "metadata": {},
   "source": [
    "The BMI is calculated using the following formula:"
   ]
  },
  {
   "cell_type": "markdown",
   "id": "b28003a3-9a88-4211-a312-80dc14a13ac6",
   "metadata": {},
   "source": [
    "$$ BMI = Weight(kg)/Height(m)^2 $$"
   ]
  },
  {
   "cell_type": "markdown",
   "id": "bd53d095-fe01-4971-89b6-1beaabbcf4a2",
   "metadata": {},
   "source": [
    "Alternatively, in the imperial system:"
   ]
  },
  {
   "cell_type": "markdown",
   "id": "71a0cc61-7673-4f81-8c7e-f7c0ec1e434e",
   "metadata": {},
   "source": [
    "$$ BMI = Weight(lb)/ Height(in)^2 *703 $$"
   ]
  },
  {
   "cell_type": "markdown",
   "id": "cc76d46c-5012-41c0-bba4-9ab28d816296",
   "metadata": {},
   "source": [
    "BMI provides a general indication of body fatness but does not directly measure body fat or distribution. It is widely used in public health and clinical settings as a quick and simple tool to assess potential health risks associated with weight. Different BMI ranges are assossiated with different health categories, but it's important to note that BMI has limitations and does not account for factors such as muscle mass or distribution of fat."
   ]
  },
  {
   "cell_type": "code",
   "execution_count": 11,
   "id": "d9789d09-47e4-4ba9-94c5-19c23a76577f",
   "metadata": {},
   "outputs": [
    {
     "name": "stdin",
     "output_type": "stream",
     "text": [
      "Enter your height in meters:  1.75\n",
      "Enter your weight in kg:  103\n"
     ]
    },
    {
     "name": "stdout",
     "output_type": "stream",
     "text": [
      "Welcome to the BMI calculator.\n",
      "Your BMI is:  33.63\n",
      "You are considered obese.\n"
     ]
    }
   ],
   "source": [
    "def bodymassindex(height,weight):\n",
    "    return round((weight / height**2),2)\n",
    "\n",
    "h = float(input(\"Enter your height in meters: \"))\n",
    "w = float(input(\"Enter your weight in kg: \"))\n",
    "\n",
    "print(\"Welcome to the BMI calculator.\")\n",
    "\n",
    "bmi = bodymassindex(h, w)\n",
    "print(\"Your BMI is: \", bmi)\n",
    "\n",
    "if bmi <= 18.5:\n",
    "    print(\"You are underweight.\")\n",
    "elif 18.5 < bmi <= 24.9:\n",
    "    print(\"You weight is normal.\")\n",
    "elif 24.9 < bmi <= 29.29:\n",
    "    print(\"You are overweight.\")\n",
    "else:\n",
    "    print(\"You are considered obese.\")"
   ]
  },
  {
   "cell_type": "code",
   "execution_count": null,
   "id": "c9e0c890-a842-4360-bf1c-e37c01085713",
   "metadata": {},
   "outputs": [],
   "source": []
  }
 ],
 "metadata": {
  "kernelspec": {
   "display_name": "Python [conda env:base] *",
   "language": "python",
   "name": "conda-base-py"
  },
  "language_info": {
   "codemirror_mode": {
    "name": "ipython",
    "version": 3
   },
   "file_extension": ".py",
   "mimetype": "text/x-python",
   "name": "python",
   "nbconvert_exporter": "python",
   "pygments_lexer": "ipython3",
   "version": "3.12.7"
  }
 },
 "nbformat": 4,
 "nbformat_minor": 5
}
