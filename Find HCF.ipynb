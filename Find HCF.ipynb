{
 "cells": [
  {
   "cell_type": "markdown",
   "id": "08c6b582-a980-4fd1-a63a-89356cdd68f7",
   "metadata": {},
   "source": [
    "# Highest Common Factor(HCF)"
   ]
  },
  {
   "cell_type": "markdown",
   "id": "6c7e56f4-619f-4102-899f-5cad7e53a0ad",
   "metadata": {},
   "source": [
    "HCF, or Highest Common Factor, is the largest positive integer that divides two or more numbers without leaving a remainder."
   ]
  },
  {
   "cell_type": "markdown",
   "id": "42808ee4-8ff3-4c65-8160-6f490cb44904",
   "metadata": {},
   "source": [
    "Formula:"
   ]
  },
  {
   "cell_type": "markdown",
   "id": "0503885f-3071-428e-82ae-4bdecc9f601b",
   "metadata": {},
   "source": [
    "For two numbers a and b, the HCF can be found using the formula:"
   ]
  },
  {
   "cell_type": "markdown",
   "id": "47f8e283-9185-4a7e-a135-987a603c53d8",
   "metadata": {},
   "source": [
    "$ HCF(a,b) = GCD(a,b) $ "
   ]
  },
  {
   "cell_type": "markdown",
   "id": "34d91e16-6e95-420c-9e64-297837e282fc",
   "metadata": {},
   "source": [
    "For more than two numbers, you can find the HCF by taking the GCD of pairs of numbers at a time until tou reach the last pair."
   ]
  },
  {
   "cell_type": "markdown",
   "id": "0e728811-4762-4fac-9680-114709b343ab",
   "metadata": {},
   "source": [
    "Note: GCD stands for Greatest Common Divisor."
   ]
  },
  {
   "cell_type": "code",
   "execution_count": 1,
   "id": "d1bb3192-9def-4d24-883c-427fb0c7d9b4",
   "metadata": {},
   "outputs": [
    {
     "name": "stdin",
     "output_type": "stream",
     "text": [
      "Enter the number:  216\n",
      "Enter the number:  54\n"
     ]
    },
    {
     "name": "stdout",
     "output_type": "stream",
     "text": [
      "The H.C.F is 54\n"
     ]
    }
   ],
   "source": [
    "# Python program to find the L.C.M of two input numbers\n",
    "\n",
    "def compute_hcf(x,y):\n",
    "    if x > y:\n",
    "        smaller = y\n",
    "    else:\n",
    "        smaller = x\n",
    "    for i in range(1,smaller+1):\n",
    "        if((x % i ==0) and(y % i ==0)):\n",
    "            hcf = i\n",
    "    return hcf\n",
    "\n",
    "num1 = int(input('Enter the number: '))\n",
    "num2 = int(input('Enter the number: '))\n",
    "\n",
    "print(\"The H.C.F is\", compute_hcf(num1,num2))"
   ]
  },
  {
   "cell_type": "code",
   "execution_count": null,
   "id": "1f1c8713-d57b-4c16-95d6-8d132a7a34cd",
   "metadata": {},
   "outputs": [],
   "source": []
  }
 ],
 "metadata": {
  "kernelspec": {
   "display_name": "Python [conda env:base] *",
   "language": "python",
   "name": "conda-base-py"
  },
  "language_info": {
   "codemirror_mode": {
    "name": "ipython",
    "version": 3
   },
   "file_extension": ".py",
   "mimetype": "text/x-python",
   "name": "python",
   "nbconvert_exporter": "python",
   "pygments_lexer": "ipython3",
   "version": "3.12.7"
  }
 },
 "nbformat": 4,
 "nbformat_minor": 5
}
