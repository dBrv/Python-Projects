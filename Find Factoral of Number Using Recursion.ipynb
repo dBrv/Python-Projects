{
 "cells": [
  {
   "cell_type": "markdown",
   "id": "f17db461-2b7e-4bf1-9f98-e754e4bad476",
   "metadata": {},
   "source": [
    "The factorial of a non-negative integer (n) is the product of all positive integers less than or equal to (n). It is denoted by ( n!) and is defined as:"
   ]
  },
  {
   "cell_type": "markdown",
   "id": "82454fbe-c2be-499b-8008-580e2d08fa30",
   "metadata": {},
   "source": [
    "$$ n! = n * (n-1) * (n-2) * ... * 3 * 2 * 1 $$"
   ]
  },
  {
   "cell_type": "markdown",
   "id": "e7fc7ddb-5011-4381-a6ac-7b62c5a44c2b",
   "metadata": {},
   "source": [
    "For example:"
   ]
  },
  {
   "cell_type": "markdown",
   "id": "3e39c477-c81a-4de5-ab71-335bb4098b8f",
   "metadata": {},
   "source": [
    "* 5! = 5 x 4 x 3 x 2 x 1 = 120\n",
    "* 0! is defined as 1."
   ]
  },
  {
   "cell_type": "markdown",
   "id": "9bc528d0-6026-4bab-a083-21e102acee79",
   "metadata": {},
   "source": [
    "Factorials are commonly used in mathematics, especially in combinatronics and probability, to count the number of ways a set of elements can be arranged or selected."
   ]
  },
  {
   "cell_type": "code",
   "execution_count": 29,
   "id": "f70e6650-d95d-4dd8-ab9d-7a4fdcdbf367",
   "metadata": {},
   "outputs": [
    {
     "name": "stdin",
     "output_type": "stream",
     "text": [
      "Enter the number:  5\n"
     ]
    },
    {
     "name": "stdout",
     "output_type": "stream",
     "text": [
      "The factorial of 5 is 120\n"
     ]
    }
   ],
   "source": [
    "# Factorial of a number using recursion\n",
    "\n",
    "def recur_factorial(n):\n",
    "    if n == 1:\n",
    "        return n\n",
    "    else:\n",
    "        return n*recur_factorial(n-1)\n",
    "\n",
    "num = int(input(\"Enter the number: \"))\n",
    "\n",
    "# check if the number is negative\n",
    "if num < 0:\n",
    "    print(\"Sorry, factorial does not exist for negative numbers, run the code again and try a positive number.\")\n",
    "elif num == 0:\n",
    "    print(\"The factorial of 0 is 1\")\n",
    "else:\n",
    "    print(\"The factorial of\", num, \"is\", recur_factorial(num))"
   ]
  },
  {
   "cell_type": "code",
   "execution_count": null,
   "id": "fe92c1f2-ac39-49a4-90d1-0f229643a4d2",
   "metadata": {},
   "outputs": [],
   "source": []
  }
 ],
 "metadata": {
  "kernelspec": {
   "display_name": "Python [conda env:base] *",
   "language": "python",
   "name": "conda-base-py"
  },
  "language_info": {
   "codemirror_mode": {
    "name": "ipython",
    "version": 3
   },
   "file_extension": ".py",
   "mimetype": "text/x-python",
   "name": "python",
   "nbconvert_exporter": "python",
   "pygments_lexer": "ipython3",
   "version": "3.12.7"
  }
 },
 "nbformat": 4,
 "nbformat_minor": 5
}
