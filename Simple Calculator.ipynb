{
 "cells": [
  {
   "cell_type": "code",
   "execution_count": 4,
   "id": "09644d1a-65cc-48e3-82ca-96908bff25f1",
   "metadata": {},
   "outputs": [
    {
     "name": "stdout",
     "output_type": "stream",
     "text": [
      "Select operation.\n",
      "1.Add\n",
      "2.Subtract\n",
      "3.Multiply\n",
      "4.Divide\n"
     ]
    },
    {
     "name": "stdin",
     "output_type": "stream",
     "text": [
      "Select Operation(1/2/3/4):  1\n",
      "Enter first number:  30\n",
      "Enter second number:  50\n"
     ]
    },
    {
     "name": "stdout",
     "output_type": "stream",
     "text": [
      "30.0 + 50.0 = 80.0\n"
     ]
    },
    {
     "name": "stdin",
     "output_type": "stream",
     "text": [
      "Make another calculation? (yes/no): yes\n",
      "Select Operation(1/2/3/4):  2\n",
      "Enter first number:  50\n",
      "Enter second number:  30\n"
     ]
    },
    {
     "name": "stdout",
     "output_type": "stream",
     "text": [
      "50.0 - 30.0 = 20.0\n"
     ]
    },
    {
     "name": "stdin",
     "output_type": "stream",
     "text": [
      "Make another calculation? (yes/no): yes\n",
      "Select Operation(1/2/3/4):  3\n",
      "Enter first number:  20\n",
      "Enter second number:  30\n"
     ]
    },
    {
     "name": "stdout",
     "output_type": "stream",
     "text": [
      "20.0 * 30.0 = 600.0\n"
     ]
    },
    {
     "name": "stdin",
     "output_type": "stream",
     "text": [
      "Make another calculation? (yes/no): yes\n",
      "Select Operation(1/2/3/4):  4\n",
      "Enter first number:  30\n",
      "Enter second number:  3\n"
     ]
    },
    {
     "name": "stdout",
     "output_type": "stream",
     "text": [
      "30.0 / 3.0 = 10.0\n"
     ]
    },
    {
     "name": "stdin",
     "output_type": "stream",
     "text": [
      "Make another calculation? (yes/no): no\n"
     ]
    }
   ],
   "source": [
    "# This function adds two numbers \n",
    "def add(x,y):\n",
    "    return x + y\n",
    "\n",
    "#This function subtracts two numbers\n",
    "def subtract(x,y):\n",
    "    return x - y\n",
    "\n",
    "#This function multiplies two numbers\n",
    "def multiply(x,y):\n",
    "    return x * y\n",
    "\n",
    "#This function divides two numbers\n",
    "def divide(x,y):\n",
    "    return x / y\n",
    "\n",
    "print(\"Select operation.\")\n",
    "print(\"1.Add\")\n",
    "print(\"2.Subtract\")\n",
    "print(\"3.Multiply\")\n",
    "print(\"4.Divide\")\n",
    "\n",
    "while True:\n",
    "    #Take input from the user\n",
    "    choice = input(\"Select Operation(1/2/3/4): \")\n",
    "\n",
    "    #Check if choice is one of the four options\n",
    "    if choice in ('1', '2', '3', '4'):\n",
    "        try:\n",
    "            num1 = float(input(\"Enter first number: \"))\n",
    "            num2 = float(input(\"Enter second number: \"))\n",
    "        except ValueError:\n",
    "            print(\"Invalid input. Please enter a number.\")\n",
    "            continue\n",
    "\n",
    "        if choice == \"1\":\n",
    "            print(num1, \"+\", num2, \"=\", add(num1, num2))\n",
    "        elif choice == \"2\":\n",
    "            print(num1, \"-\", num2, \"=\", subtract(num1, num2))\n",
    "        elif choice == \"3\":\n",
    "            print(num1, \"*\", num2, \"=\", multiply(num1, num2))\n",
    "        elif choice == \"4\":\n",
    "            print(num1, \"/\", num2, \"=\", divide(num1, num2))\n",
    "\n",
    "        #check if user wants another calculation\n",
    "        #break the shile loop if answer is no\n",
    "        next_calculation = input(\"Make another calculation? (yes/no):\")\n",
    "        if next_calculation == \"no\":\n",
    "            break\n",
    "    else:\n",
    "        print(\"Invalid Input\")"
   ]
  },
  {
   "cell_type": "code",
   "execution_count": null,
   "id": "d46e0512-fa27-4c1a-9327-6cd0b8f95749",
   "metadata": {},
   "outputs": [],
   "source": []
  }
 ],
 "metadata": {
  "kernelspec": {
   "display_name": "Python [conda env:base] *",
   "language": "python",
   "name": "conda-base-py"
  },
  "language_info": {
   "codemirror_mode": {
    "name": "ipython",
    "version": 3
   },
   "file_extension": ".py",
   "mimetype": "text/x-python",
   "name": "python",
   "nbconvert_exporter": "python",
   "pygments_lexer": "ipython3",
   "version": "3.12.7"
  }
 },
 "nbformat": 4,
 "nbformat_minor": 5
}
