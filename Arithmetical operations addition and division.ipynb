{
 "cells": [
  {
   "cell_type": "code",
   "execution_count": 3,
   "id": "421d55fd-08fe-499e-906a-ebcfd391aa5a",
   "metadata": {},
   "outputs": [
    {
     "name": "stdin",
     "output_type": "stream",
     "text": [
      "Enter the first number for addition:  5\n",
      "Enter the second number to add:  6\n"
     ]
    },
    {
     "name": "stdout",
     "output_type": "stream",
     "text": [
      "sum: 5.0 + 6.0 = 11.0\n"
     ]
    }
   ],
   "source": [
    "# Addition\n",
    "num1 = float(input('Enter the first number for addition: '))\n",
    "num2 = float(input('Enter the second number to add: '))\n",
    "sum_result = num1 + num2\n",
    "print(f\"sum: {num1} + {num2} = {sum_result}\")"
   ]
  },
  {
   "cell_type": "code",
   "execution_count": 7,
   "id": "a14dcac0-c585-4ec9-964b-fed81efb62ac",
   "metadata": {},
   "outputs": [
    {
     "name": "stdin",
     "output_type": "stream",
     "text": [
      "Enter the dividend for division:  125\n",
      "Enter the divisor for division:  5\n"
     ]
    },
    {
     "name": "stdout",
     "output_type": "stream",
     "text": [
      "Division: 125.0 / 5.0 = 25.0\n"
     ]
    }
   ],
   "source": [
    "#Division\n",
    "num3 = float(input('Enter the dividend for division: '))\n",
    "num4 = float(input('Enter the divisor for division: '))\n",
    "if num4 == 0:\n",
    "    print(\"Error: Division by zero isn't allowed.\")\n",
    "else:\n",
    "    div_result = num3 / num4\n",
    "print(f\"Division: {num3} / {num4} = {div_result}\")"
   ]
  },
  {
   "cell_type": "code",
   "execution_count": null,
   "id": "90c9c178-f13c-4683-9fe2-28319f998852",
   "metadata": {},
   "outputs": [],
   "source": []
  }
 ],
 "metadata": {
  "kernelspec": {
   "display_name": "Python [conda env:base] *",
   "language": "python",
   "name": "conda-base-py"
  },
  "language_info": {
   "codemirror_mode": {
    "name": "ipython",
    "version": 3
   },
   "file_extension": ".py",
   "mimetype": "text/x-python",
   "name": "python",
   "nbconvert_exporter": "python",
   "pygments_lexer": "ipython3",
   "version": "3.12.7"
  }
 },
 "nbformat": 4,
 "nbformat_minor": 5
}
