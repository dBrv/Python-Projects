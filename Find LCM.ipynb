{
 "cells": [
  {
   "cell_type": "markdown",
   "id": "fc0acc84-f6a4-4551-8755-75ff0bdf095d",
   "metadata": {},
   "source": [
    "# Least Common Multiple (LCM):"
   ]
  },
  {
   "cell_type": "markdown",
   "id": "1b0f8565-734d-4098-a139-754be210e727",
   "metadata": {},
   "source": [
    "LCM, or Least Common Multiple, is the smallest multiple that is exactly divisible by two or more numbers.\n"
   ]
  },
  {
   "cell_type": "code",
   "execution_count": null,
   "id": "46ed5f9a-0abb-4a82-ae5b-81d26364d950",
   "metadata": {},
   "outputs": [],
   "source": []
  },
  {
   "cell_type": "code",
   "execution_count": null,
   "id": "e851406a-930e-4c0e-941e-9b642da4be8e",
   "metadata": {},
   "outputs": [],
   "source": []
  },
  {
   "cell_type": "markdown",
   "id": "3a43fcc1-e96f-40fe-8637-74012bbc4406",
   "metadata": {},
   "source": [
    "## Formula:"
   ]
  },
  {
   "cell_type": "markdown",
   "id": "08a39e6a-9abc-4ef2-b573-02857ce14813",
   "metadata": {},
   "source": [
    "For two numbers a and b, the LCM can be found using the formula:"
   ]
  },
  {
   "cell_type": "markdown",
   "id": "a41bafbf-c84e-413b-94c6-5e184f03f3f6",
   "metadata": {},
   "source": [
    "$$LCM(a, b) = \\frac{|a * b|}{GCD(a, b)}$$\n"
   ]
  },
  {
   "cell_type": "markdown",
   "id": "c453c9fc-0abd-4fb5-b250-6d58ea0523d9",
   "metadata": {},
   "source": [
    "For more than two numbers, you can find the LCM step by step, taking the LCM of pairs of numbers at a time until you reach the last pair."
   ]
  },
  {
   "cell_type": "markdown",
   "id": "a5de2e32-b56c-4c96-9017-d3025ad932da",
   "metadata": {},
   "source": [
    "Note: GCD stands for Greatest Common Divisor"
   ]
  },
  {
   "cell_type": "code",
   "execution_count": 21,
   "id": "f5ccde02-1241-492c-8510-c66acd667395",
   "metadata": {},
   "outputs": [
    {
     "name": "stdin",
     "output_type": "stream",
     "text": [
      "Enter the number:  254\n",
      "Enter the number:  324\n"
     ]
    },
    {
     "name": "stdout",
     "output_type": "stream",
     "text": [
      "The L.C.M. is 41148\n"
     ]
    }
   ],
   "source": [
    "#Python program to find the L.C.M of two input number\n",
    "\n",
    "def compute_lcm(x,y):\n",
    "    if x > y:\n",
    "        greater = x\n",
    "    else:\n",
    "        greater = y\n",
    "    while(True):\n",
    "        if((greater % x == 0) and (greater % y == 0)):\n",
    "            lcm = greater\n",
    "            break\n",
    "        greater += 1\n",
    "    return lcm\n",
    "\n",
    "num1 = int(input('Enter the number: '))\n",
    "num2 = int(input('Enter the number: '))\n",
    "\n",
    "print(\"The L.C.M. is\", compute_lcm(num1, num2))"
   ]
  },
  {
   "cell_type": "code",
   "execution_count": null,
   "id": "f0f89ee4-2a18-431e-aaab-f7e3c9dcd1a4",
   "metadata": {},
   "outputs": [],
   "source": []
  }
 ],
 "metadata": {
  "kernelspec": {
   "display_name": "Python [conda env:base] *",
   "language": "python",
   "name": "conda-base-py"
  },
  "language_info": {
   "codemirror_mode": {
    "name": "ipython",
    "version": 3
   },
   "file_extension": ".py",
   "mimetype": "text/x-python",
   "name": "python",
   "nbconvert_exporter": "python",
   "pygments_lexer": "ipython3",
   "version": "3.12.7"
  }
 },
 "nbformat": 4,
 "nbformat_minor": 5
}
