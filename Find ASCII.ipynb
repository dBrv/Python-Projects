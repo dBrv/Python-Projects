{
 "cells": [
  {
   "cell_type": "markdown",
   "id": "4c723f98-7328-4799-8055-0f172ff84cd1",
   "metadata": {},
   "source": [
    "# ASCII Value:"
   ]
  },
  {
   "cell_type": "markdown",
   "id": "dd0c4016-ec7e-4c03-81a7-396018794078",
   "metadata": {},
   "source": [
    "ASCII, or American Standard Code for Information Interchange, is a character encoding\n",
    "standard that uses numeric values to represent characters. Each ASCII character is\n",
    "assigned a unique 7-bit or 8-bit binary number, allowing computers to exchange information\n",
    "and display text in a consistent way. The ASCII values range from 0 to 127 (for 7-bit ASCII)\n",
    "or 0 to 255 (for 8-bit ASCII), with each value corresponding to a specific character, such as\n",
    "letters, digits, punctuation marks, and control characters."
   ]
  },
  {
   "cell_type": "code",
   "execution_count": 6,
   "id": "5814df53-de85-424e-bff7-246998c48cb2",
   "metadata": {},
   "outputs": [
    {
     "name": "stdin",
     "output_type": "stream",
     "text": [
      "Enter the character:  V\n"
     ]
    },
    {
     "name": "stdout",
     "output_type": "stream",
     "text": [
      "The ASCII value of V is 86\n"
     ]
    }
   ],
   "source": [
    "char = str(input(\"Enter the character: \"))\n",
    "print(\"The ASCII value of \"+ char + \" is\", ord(char))"
   ]
  },
  {
   "cell_type": "code",
   "execution_count": null,
   "id": "efb104b6-1af0-41c5-959c-3cf7384c0598",
   "metadata": {},
   "outputs": [],
   "source": []
  }
 ],
 "metadata": {
  "kernelspec": {
   "display_name": "Python [conda env:base] *",
   "language": "python",
   "name": "conda-base-py"
  },
  "language_info": {
   "codemirror_mode": {
    "name": "ipython",
    "version": 3
   },
   "file_extension": ".py",
   "mimetype": "text/x-python",
   "name": "python",
   "nbconvert_exporter": "python",
   "pygments_lexer": "ipython3",
   "version": "3.12.7"
  }
 },
 "nbformat": 4,
 "nbformat_minor": 5
}
