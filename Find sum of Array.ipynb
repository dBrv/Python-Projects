{
 "cells": [
  {
   "cell_type": "markdown",
   "id": "c8edf89b-c4e9-41f1-9704-619e759205a3",
   "metadata": {},
   "source": [
    "In Python an array is a data structure used to store a collection of elements, each identified by an index or a key. Unlike some other programming languages, Python does not have a built-in array type. Instead, the most commonly used array-like data structures is the list."
   ]
  },
  {
   "cell_type": "markdown",
   "id": "050414c5-4f51-4518-b4d1-7f154e65d9aa",
   "metadata": {},
   "source": [
    "A list in Python is a dynamic array, meaning it can change in size during runtime. Elements in a list can be of different data types, and you can perform various operations such as adding, removing or modifying elements. Lists are defined using square brakets [] and can be indexed and sliced to access specific elements or sublists."
   ]
  },
  {
   "cell_type": "markdown",
   "id": "612345a2-3aef-4b12-bfaf-fd7be66c1061",
   "metadata": {},
   "source": [
    "Example of a simple list in Python:"
   ]
  },
  {
   "cell_type": "code",
   "execution_count": 6,
   "id": "30ba171e-82c1-4528-9f36-32968c61b9b0",
   "metadata": {},
   "outputs": [],
   "source": [
    "my_list = [1, 2, 3, 4, 5]"
   ]
  },
  {
   "cell_type": "markdown",
   "id": "69bc1cc2-0ec7-4a2e-9d86-5b1a12370992",
   "metadata": {},
   "source": [
    "This list can be accessed and manipulated using various built-in functions and methods in Python."
   ]
  },
  {
   "cell_type": "code",
   "execution_count": 9,
   "id": "c38f33bd-c128-43dc-a2ec-7c49ffc6046c",
   "metadata": {},
   "outputs": [],
   "source": [
    "# Function to find the sum of elements in an array\n",
    "def sum_of_array(arr):\n",
    "    total = 0 # Initialize a variable to store the sum\n",
    "\n",
    "    for element in arr:\n",
    "        total += element # Add each element to the total\n",
    "    return total"
   ]
  },
  {
   "cell_type": "code",
   "execution_count": 15,
   "id": "6e6d752d-2c27-4ecd-8ef5-5ecbb6d5f408",
   "metadata": {},
   "outputs": [
    {
     "name": "stdout",
     "output_type": "stream",
     "text": [
      "The sum of the array is: 15\n"
     ]
    }
   ],
   "source": [
    "result = sum_of_array(my_list)\n",
    "print(\"The sum of the array is:\", result)"
   ]
  },
  {
   "cell_type": "code",
   "execution_count": null,
   "id": "2be9ea9e-3a4e-42bf-8038-78e2fea7798b",
   "metadata": {},
   "outputs": [],
   "source": []
  }
 ],
 "metadata": {
  "kernelspec": {
   "display_name": "Python [conda env:base] *",
   "language": "python",
   "name": "conda-base-py"
  },
  "language_info": {
   "codemirror_mode": {
    "name": "ipython",
    "version": 3
   },
   "file_extension": ".py",
   "mimetype": "text/x-python",
   "name": "python",
   "nbconvert_exporter": "python",
   "pygments_lexer": "ipython3",
   "version": "3.12.7"
  }
 },
 "nbformat": 4,
 "nbformat_minor": 5
}
