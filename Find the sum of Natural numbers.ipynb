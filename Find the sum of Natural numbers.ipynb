{
 "cells": [
  {
   "cell_type": "markdown",
   "id": "de74b8a2-df77-4c4e-aafa-9ff78ccb2864",
   "metadata": {},
   "source": [
    "### Natural numbers"
   ]
  },
  {
   "cell_type": "markdown",
   "id": "8a6196f7-6eaa-4fbb-bac2-bbe118d62aad",
   "metadata": {},
   "source": [
    "They are a set of positive integers that are used to count and order objects. They are the numbers that typically start from 1 and continue indefinitely, including all the whole numbers greater than 0. In mathematical notation, the set of natural numbers is often denoted as \"N\" and can be expressed as:"
   ]
  },
  {
   "cell_type": "markdown",
   "id": "73ce159c-88ef-460c-818f-c0675041dc1b",
   "metadata": {},
   "source": [
    "####                       N = 1,2,3,4,5,6,7,8,...."
   ]
  },
  {
   "cell_type": "code",
   "execution_count": 5,
   "id": "a1224521-5832-45e5-b559-ea5d00d4f748",
   "metadata": {},
   "outputs": [
    {
     "name": "stdin",
     "output_type": "stream",
     "text": [
      "Enter the limit:  120\n"
     ]
    },
    {
     "name": "stdout",
     "output_type": "stream",
     "text": [
      "The sum of natural numbers up to 120 is: 7260\n"
     ]
    }
   ],
   "source": [
    "limit = int(input(\"Enter the limit: \"))\n",
    "\n",
    "#Initialize the sum\n",
    "sum = 0 \n",
    "\n",
    "#Use a for loop to calculate the sum of natural numbers\n",
    "for i in range(1, limit + 1):\n",
    "    sum += i\n",
    "\n",
    "#Print the sum\n",
    "print(\"The sum of natural numbers up to\", limit, \"is:\", sum)"
   ]
  },
  {
   "cell_type": "code",
   "execution_count": null,
   "id": "63c81075-70e4-4330-b3c7-2ca071b5ed03",
   "metadata": {},
   "outputs": [],
   "source": []
  }
 ],
 "metadata": {
  "kernelspec": {
   "display_name": "Python [conda env:base] *",
   "language": "python",
   "name": "conda-base-py"
  },
  "language_info": {
   "codemirror_mode": {
    "name": "ipython",
    "version": 3
   },
   "file_extension": ".py",
   "mimetype": "text/x-python",
   "name": "python",
   "nbconvert_exporter": "python",
   "pygments_lexer": "ipython3",
   "version": "3.12.7"
  }
 },
 "nbformat": 4,
 "nbformat_minor": 5
}
