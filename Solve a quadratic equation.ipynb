{
 "cells": [
  {
   "cell_type": "code",
   "execution_count": 4,
   "id": "46033c46-5113-43df-92ac-2b8a27645c88",
   "metadata": {},
   "outputs": [
    {
     "name": "stdin",
     "output_type": "stream",
     "text": [
      "Enter coefficient a:  1\n",
      "Enter coefficient b:  4\n",
      "Enter coefficient c:  8\n"
     ]
    },
    {
     "name": "stdout",
     "output_type": "stream",
     "text": [
      "Root 1: -2.0 + 2.0i\n",
      "Root 2: -2.0 - 2.0i\n"
     ]
    }
   ],
   "source": [
    "import math\n",
    "\n",
    "#Input coefficients\n",
    "a = float(input(\"Enter coefficient a: \"))\n",
    "b = float(input(\"Enter coefficient b: \"))\n",
    "c = float(input(\"Enter coefficient c: \"))\n",
    "\n",
    "#Calculate the discriminant\n",
    "discriminant = b**2 - 4*a*c\n",
    "\n",
    "#Check if the discriminant is positive, negative, or zero\n",
    "if discriminant > 0:\n",
    "    #Two real and distinct roots\n",
    "    root1 = (-b + math.sqrt(discriminant)) / (2*a)\n",
    "    root2 = (-b - math.sqrt(discriminant)) / (2*a)\n",
    "    print(f\"Root 1: {root1}\")\n",
    "    print(f\"Root 2: {root2}\")\n",
    "elif discriminant ==0:\n",
    "    # One real root (repeated)\n",
    "    root = -b / (2*a)\n",
    "    print(f\"Root: {root}\")\n",
    "else:\n",
    "    #Complex roots\n",
    "    real_part = -b / (2*a)\n",
    "    imaginary_part = math.sqrt(abs(discriminant)) / (2*a)\n",
    "    print(f\"Root 1: {real_part} + {imaginary_part}i\")\n",
    "    print(f\"Root 2: {real_part} - {imaginary_part}i\")"
   ]
  },
  {
   "cell_type": "code",
   "execution_count": null,
   "id": "9fcd6e65-b7dd-406b-88f5-ea0244ae3754",
   "metadata": {},
   "outputs": [],
   "source": []
  }
 ],
 "metadata": {
  "kernelspec": {
   "display_name": "Python [conda env:base] *",
   "language": "python",
   "name": "conda-base-py"
  },
  "language_info": {
   "codemirror_mode": {
    "name": "ipython",
    "version": 3
   },
   "file_extension": ".py",
   "mimetype": "text/x-python",
   "name": "python",
   "nbconvert_exporter": "python",
   "pygments_lexer": "ipython3",
   "version": "3.12.7"
  }
 },
 "nbformat": 4,
 "nbformat_minor": 5
}
