{
 "cells": [
  {
   "cell_type": "markdown",
   "id": "afc020a8-9498-47d2-ac2a-42162d1627ed",
   "metadata": {},
   "source": [
    "# Natural Logarithm"
   ]
  },
  {
   "cell_type": "markdown",
   "id": "6c98d9da-3997-4c54-b6c3-57db31996ade",
   "metadata": {},
   "source": [
    "The natural logarithm, often denoted as ln, is a mathematical function that represents the logarithm to the base \"e\", where \"e\" is the mathematical constant approximately equal to 2.71828. In other words, for a positive number x, the natural logarithm of x is the exponent y that satisfies the equation e^y = x."
   ]
  },
  {
   "cell_type": "markdown",
   "id": "77f22344-b6c2-43cd-8b89-8b5e5dbfda2f",
   "metadata": {},
   "source": [
    "Mathematically, the natural logarithm is expressed as:"
   ]
  },
  {
   "cell_type": "markdown",
   "id": "1d2cfc62-5e2f-4dd6-bdd3-6390db12e16e",
   "metadata": {},
   "source": [
    "$$ ln(x) $$ "
   ]
  },
  {
   "cell_type": "markdown",
   "id": "f8e8f8d3-cbcb-49cc-af8c-80a789a7b41e",
   "metadata": {},
   "source": [
    "It is commonly used in various branches of mathematics, especially in calculus and mathematical analysis, as well as in fields such as physics, economics and engineering. The natural logarithm has properties that make it particularly useful in situations involving exponential growth or decay."
   ]
  },
  {
   "cell_type": "code",
   "execution_count": 7,
   "id": "fa50073f-084b-4717-92e2-61ae5859c8ab",
   "metadata": {},
   "outputs": [
    {
     "name": "stdin",
     "output_type": "stream",
     "text": [
      "Enter a number:  855\n"
     ]
    },
    {
     "name": "stdout",
     "output_type": "stream",
     "text": [
      "The natural logarithm of 855.0 is: 6.75110146893676\n"
     ]
    }
   ],
   "source": [
    "import math\n",
    "\n",
    "num = float(input(\"Enter a number: \"))\n",
    "\n",
    "if num <= 0:\n",
    "    print(\"Please enter a positive number.\")\n",
    "else:\n",
    "    # Calculate the natural logarithm (base e) of the number\n",
    "    result = math.log(num)\n",
    "    print(f\"The natural logarithm of {num} is: {result}\")\n",
    "    "
   ]
  },
  {
   "cell_type": "code",
   "execution_count": null,
   "id": "332112d3-c330-484e-9e64-1ec7b8836340",
   "metadata": {},
   "outputs": [],
   "source": []
  }
 ],
 "metadata": {
  "kernelspec": {
   "display_name": "Python [conda env:base] *",
   "language": "python",
   "name": "conda-base-py"
  },
  "language_info": {
   "codemirror_mode": {
    "name": "ipython",
    "version": 3
   },
   "file_extension": ".py",
   "mimetype": "text/x-python",
   "name": "python",
   "nbconvert_exporter": "python",
   "pygments_lexer": "ipython3",
   "version": "3.12.7"
  }
 },
 "nbformat": 4,
 "nbformat_minor": 5
}
