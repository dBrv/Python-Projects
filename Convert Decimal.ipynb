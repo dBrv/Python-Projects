{
 "cells": [
  {
   "cell_type": "markdown",
   "id": "d1ed555a-7e5a-48b5-ae17-b75b4aa0ffd8",
   "metadata": {},
   "source": [
    "## How can we manually convert a decimal number to binary, octal and hexadecimal?"
   ]
  },
  {
   "cell_type": "markdown",
   "id": "f1e64499-ef87-4f9f-be1b-a288d583f49d",
   "metadata": {},
   "source": [
    "Converting a decimal number to binary, octal, and hexadecimal involves dividing the\n",
    " decimal number by the base repeatedly and noting the remainders at each step. Here's a\n",
    " simple example:\n",
    " Let's convert the decimal number 27 to binary, octal, and hexadecimal.\n",
    " 1. Binary:\n",
    " Divide 27 by 2. Quotient is 13, remainder is 1. Note the remainder.\n",
    " Divide 13 by 2. Quotient is 6, remainder is 1. Note the remainder.\n",
    " Divide 6 by 2. Quotient is 3, remainder is 0. Note the remainder.\n",
    " Divide 3 by 2. Quotient is 1, remainder is 1. Note the remainder.\n",
    " Divide 1 by 2. Quotient is 0, remainder is 1. Note the remainder.\n",
    " Reading the remainders from bottom to top, the binary representation of 27 is 11011.\n",
    " 2. Octal:\n",
    " Divide 27 by 8. Quotient is 3, remainder is 3. Note the remainder.\n",
    " Divide 3 by 8. Quotient is 0, remainder is 3. Note the remainder.\n",
    " Reading the remainders from bottom to top, the octal representation of 27 is 33.\n",
    " 3. Hexadecimal:\n",
    " Divide 27 by 16. Quotient is 1, remainder is 11 (B in hexadecimal). Note the\n",
    " remainder.\n",
    " Reading the remainders, the hexadecimal representation of 27 is 1B.\n",
    " "
   ]
  },
  {
   "cell_type": "markdown",
   "id": "ad7d250a-a678-410f-b43d-6c18c48ad7ab",
   "metadata": {},
   "source": [
    "So, in summary:\n",
    "Binary: 27 in decimal is 11011 in binary.\n",
    "Octal: 27 in decimal is 33 in octal.\n",
    "Hexadecimal: 27 in decimal is 1B in hexadecimal."
   ]
  },
  {
   "cell_type": "code",
   "execution_count": 6,
   "id": "da187b6f-1bfd-4282-a1f7-b5e5b31dc265",
   "metadata": {},
   "outputs": [
    {
     "name": "stdin",
     "output_type": "stream",
     "text": [
      "Enter a decimal number:  56\n"
     ]
    },
    {
     "name": "stdout",
     "output_type": "stream",
     "text": [
      "The decimal value of 56 is:\n",
      "0b111000 in binary.\n",
      "0o70 in octal.\n",
      "0x38 in hexadecimal.\n"
     ]
    }
   ],
   "source": [
    "dec_num = int(input('Enter a decimal number: '))\n",
    "\n",
    "print(\"The decimal value of\", dec_num,\"is:\")\n",
    "print(bin(dec_num),\"in binary.\")\n",
    "print(oct(dec_num),\"in octal.\")\n",
    "print(hex(dec_num),\"in hexadecimal.\")"
   ]
  },
  {
   "cell_type": "code",
   "execution_count": null,
   "id": "b7bc1b36-b9f2-4462-922d-b1301ba831e3",
   "metadata": {},
   "outputs": [],
   "source": []
  }
 ],
 "metadata": {
  "kernelspec": {
   "display_name": "Python [conda env:base] *",
   "language": "python",
   "name": "conda-base-py"
  },
  "language_info": {
   "codemirror_mode": {
    "name": "ipython",
    "version": 3
   },
   "file_extension": ".py",
   "mimetype": "text/x-python",
   "name": "python",
   "nbconvert_exporter": "python",
   "pygments_lexer": "ipython3",
   "version": "3.12.7"
  }
 },
 "nbformat": 4,
 "nbformat_minor": 5
}
