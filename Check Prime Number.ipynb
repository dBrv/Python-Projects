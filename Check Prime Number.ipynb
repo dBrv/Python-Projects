{
 "cells": [
  {
   "cell_type": "markdown",
   "id": "6fe6419a-45fb-40ad-9ee1-72c6f89c5a70",
   "metadata": {},
   "source": [
    "## Prime Numbers:"
   ]
  },
  {
   "cell_type": "markdown",
   "id": "d23c9e0a-f6e9-4012-8c5e-77bcdb42b083",
   "metadata": {},
   "source": [
    "##### A prime number is a whole number that cannot be evenly divided by any other number except for 1 and itself. For example 2, 3 , 5 , 7, 11 and 13 are prime numbers because they cannot be divided by any other positive integer expect for 1 and their own value."
   ]
  },
  {
   "cell_type": "code",
   "execution_count": 11,
   "id": "69b9485f-b44e-4718-9305-12efa4430be2",
   "metadata": {},
   "outputs": [
    {
     "name": "stdin",
     "output_type": "stream",
     "text": [
      "Enter a number:  13\n"
     ]
    },
    {
     "name": "stdout",
     "output_type": "stream",
     "text": [
      "13, is a prime number\n"
     ]
    }
   ],
   "source": [
    "num = int(input(\"Enter a number: \"))\n",
    "\n",
    "#define a flag variable\n",
    "flag = False\n",
    "\n",
    "if num == 1:\n",
    "    print(f\"{num}, is not a prime\")\n",
    "elif num > 1:\n",
    "    #check for factor\n",
    "    for i in range(2, num):\n",
    "        if (num % i) == 0:\n",
    "            flag = True  #if factor is found, set flag to True\n",
    "            #break out of loop\n",
    "            break\n",
    "    # check if flag is True\n",
    "if flag:\n",
    "    print(f\"{num}, is not prime number\")\n",
    "else:\n",
    "    print(f\"{num}, is a prime number\")"
   ]
  },
  {
   "cell_type": "code",
   "execution_count": null,
   "id": "a3e2bca9-3e60-43fe-a345-ac88a5f29a46",
   "metadata": {},
   "outputs": [],
   "source": []
  }
 ],
 "metadata": {
  "kernelspec": {
   "display_name": "Python [conda env:base] *",
   "language": "python",
   "name": "conda-base-py"
  },
  "language_info": {
   "codemirror_mode": {
    "name": "ipython",
    "version": 3
   },
   "file_extension": ".py",
   "mimetype": "text/x-python",
   "name": "python",
   "nbconvert_exporter": "python",
   "pygments_lexer": "ipython3",
   "version": "3.12.7"
  }
 },
 "nbformat": 4,
 "nbformat_minor": 5
}
